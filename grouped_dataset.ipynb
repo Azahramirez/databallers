{
 "cells": [
  {
   "cell_type": "code",
   "execution_count": 61,
   "id": "b4cc77c4",
   "metadata": {},
   "outputs": [],
   "source": [
    "import pandas as pd"
   ]
  },
  {
   "cell_type": "code",
   "execution_count": 62,
   "id": "1e3cee92",
   "metadata": {},
   "outputs": [
    {
     "name": "stderr",
     "output_type": "stream",
     "text": [
      "/var/folders/tl/n2n7gv595bq_stcnjf2_yz440000gn/T/ipykernel_62120/3030482662.py:1: DtypeWarning: Columns (8) have mixed types. Specify dtype option on import or set low_memory=False.\n",
      "  df_final = pd.read_csv('data/datasetFinal/cobros_final.csv')\n"
     ]
    }
   ],
   "source": [
    "df_final = pd.read_csv('data/datasetFinal/cobros_final.csv')\n",
    "df_pagare = pd.read_csv('data/datasetFinal/Capital_Pagare_FechaAperturaCredito.csv').rename(columns= {\"idcredito\":\"idCredito\"})"
   ]
  },
  {
   "cell_type": "code",
   "execution_count": 63,
   "id": "d28303ff",
   "metadata": {},
   "outputs": [],
   "source": [
    "df_2025 = df_final[df_final[\"fechaEnvioCobro\"]> \"2025-01-01\"]\n",
    "df_final = df_final[df_final[\"fechaEnvioCobro\"]<= \"2025-01-01\"]"
   ]
  },
  {
   "cell_type": "markdown",
   "id": "59595804",
   "metadata": {},
   "source": [
    "## 2025"
   ]
  },
  {
   "cell_type": "code",
   "execution_count": 64,
   "id": "8d45bcbc",
   "metadata": {},
   "outputs": [],
   "source": [
    "df_2025_grouped = df_2025.groupby(\"idCredito\").agg({\"montoCobrado\":\"sum\"}).rename(columns={\"montoCobrado\":\"montoCobrado2025\"}).reset_index()"
   ]
  },
  {
   "cell_type": "markdown",
   "id": "c83b5e48",
   "metadata": {},
   "source": [
    "## 2022 - 2024"
   ]
  },
  {
   "cell_type": "code",
   "execution_count": 65,
   "id": "66e36c45",
   "metadata": {},
   "outputs": [],
   "source": [
    "df_final_grouped = df_final.groupby('idCredito').agg(\n",
    "    montoExigible=('montoExigible', 'sum'),\n",
    "    montoCobrar=('montoCobrar', 'sum'),\n",
    "    montoCobrado=('montoCobrado', 'sum'),\n",
    "    vecesPagadas=('montoCobrado', 'sum'),\n",
    "    totalCobros=('montoCobrado', 'count'),\n",
    "    ultimoCobro=('fechaEnvioCobro', 'max')\n",
    ").reset_index()\n",
    "df_final_grouped['proporcionPagos'] = df_final_grouped['vecesPagadas'] / df_final_grouped['totalCobros']"
   ]
  },
  {
   "cell_type": "code",
   "execution_count": 66,
   "id": "9dfe8812",
   "metadata": {},
   "outputs": [
    {
     "data": {
      "application/vnd.microsoft.datawrangler.viewer.v0+json": {
       "columns": [
        {
         "name": "index",
         "rawType": "int64",
         "type": "integer"
        },
        {
         "name": "idCredito",
         "rawType": "int64",
         "type": "integer"
        },
        {
         "name": "montoExigible",
         "rawType": "float64",
         "type": "float"
        },
        {
         "name": "montoCobrar",
         "rawType": "float64",
         "type": "float"
        },
        {
         "name": "montoCobrado",
         "rawType": "float64",
         "type": "float"
        },
        {
         "name": "vecesPagadas",
         "rawType": "float64",
         "type": "float"
        },
        {
         "name": "totalCobros",
         "rawType": "int64",
         "type": "integer"
        },
        {
         "name": "ultimoCobro",
         "rawType": "object",
         "type": "string"
        },
        {
         "name": "proporcionPagos",
         "rawType": "float64",
         "type": "float"
        }
       ],
       "ref": "00b99f5c-a2ee-4626-8240-db3d10ac2f48",
       "rows": [
        [
         "0",
         "6",
         "375.47",
         "375.47",
         "0.0",
         "0.0",
         "1",
         "14/08/2023",
         "0.0"
        ],
        [
         "1",
         "3674",
         "344.18",
         "344.18",
         "0.0",
         "0.0",
         "1",
         "10/05/2024",
         "0.0"
        ],
        [
         "2",
         "4635",
         "1441.17",
         "1441.17",
         "160.13",
         "160.13",
         "9",
         "13/03/2023",
         "17.79222222222222"
        ],
        [
         "3",
         "4914",
         "3949.8",
         "3949.8",
         "384.98",
         "384.98",
         "10",
         "13/03/2023",
         "38.498000000000005"
        ],
        [
         "4",
         "8947",
         "2316.06",
         "2316.06",
         "0.0",
         "0.0",
         "9",
         "13/03/2023",
         "0.0"
        ]
       ],
       "shape": {
        "columns": 8,
        "rows": 5
       }
      },
      "text/html": [
       "<div>\n",
       "<style scoped>\n",
       "    .dataframe tbody tr th:only-of-type {\n",
       "        vertical-align: middle;\n",
       "    }\n",
       "\n",
       "    .dataframe tbody tr th {\n",
       "        vertical-align: top;\n",
       "    }\n",
       "\n",
       "    .dataframe thead th {\n",
       "        text-align: right;\n",
       "    }\n",
       "</style>\n",
       "<table border=\"1\" class=\"dataframe\">\n",
       "  <thead>\n",
       "    <tr style=\"text-align: right;\">\n",
       "      <th></th>\n",
       "      <th>idCredito</th>\n",
       "      <th>montoExigible</th>\n",
       "      <th>montoCobrar</th>\n",
       "      <th>montoCobrado</th>\n",
       "      <th>vecesPagadas</th>\n",
       "      <th>totalCobros</th>\n",
       "      <th>ultimoCobro</th>\n",
       "      <th>proporcionPagos</th>\n",
       "    </tr>\n",
       "  </thead>\n",
       "  <tbody>\n",
       "    <tr>\n",
       "      <th>0</th>\n",
       "      <td>6</td>\n",
       "      <td>375.47</td>\n",
       "      <td>375.47</td>\n",
       "      <td>0.00</td>\n",
       "      <td>0.00</td>\n",
       "      <td>1</td>\n",
       "      <td>14/08/2023</td>\n",
       "      <td>0.000000</td>\n",
       "    </tr>\n",
       "    <tr>\n",
       "      <th>1</th>\n",
       "      <td>3674</td>\n",
       "      <td>344.18</td>\n",
       "      <td>344.18</td>\n",
       "      <td>0.00</td>\n",
       "      <td>0.00</td>\n",
       "      <td>1</td>\n",
       "      <td>10/05/2024</td>\n",
       "      <td>0.000000</td>\n",
       "    </tr>\n",
       "    <tr>\n",
       "      <th>2</th>\n",
       "      <td>4635</td>\n",
       "      <td>1441.17</td>\n",
       "      <td>1441.17</td>\n",
       "      <td>160.13</td>\n",
       "      <td>160.13</td>\n",
       "      <td>9</td>\n",
       "      <td>13/03/2023</td>\n",
       "      <td>17.792222</td>\n",
       "    </tr>\n",
       "    <tr>\n",
       "      <th>3</th>\n",
       "      <td>4914</td>\n",
       "      <td>3949.80</td>\n",
       "      <td>3949.80</td>\n",
       "      <td>384.98</td>\n",
       "      <td>384.98</td>\n",
       "      <td>10</td>\n",
       "      <td>13/03/2023</td>\n",
       "      <td>38.498000</td>\n",
       "    </tr>\n",
       "    <tr>\n",
       "      <th>4</th>\n",
       "      <td>8947</td>\n",
       "      <td>2316.06</td>\n",
       "      <td>2316.06</td>\n",
       "      <td>0.00</td>\n",
       "      <td>0.00</td>\n",
       "      <td>9</td>\n",
       "      <td>13/03/2023</td>\n",
       "      <td>0.000000</td>\n",
       "    </tr>\n",
       "  </tbody>\n",
       "</table>\n",
       "</div>"
      ],
      "text/plain": [
       "   idCredito  montoExigible  montoCobrar  montoCobrado  vecesPagadas  \\\n",
       "0          6         375.47       375.47          0.00          0.00   \n",
       "1       3674         344.18       344.18          0.00          0.00   \n",
       "2       4635        1441.17      1441.17        160.13        160.13   \n",
       "3       4914        3949.80      3949.80        384.98        384.98   \n",
       "4       8947        2316.06      2316.06          0.00          0.00   \n",
       "\n",
       "   totalCobros ultimoCobro  proporcionPagos  \n",
       "0            1  14/08/2023         0.000000  \n",
       "1            1  10/05/2024         0.000000  \n",
       "2            9  13/03/2023        17.792222  \n",
       "3           10  13/03/2023        38.498000  \n",
       "4            9  13/03/2023         0.000000  "
      ]
     },
     "execution_count": 66,
     "metadata": {},
     "output_type": "execute_result"
    }
   ],
   "source": [
    "df_final_grouped.head()"
   ]
  },
  {
   "cell_type": "code",
   "execution_count": 70,
   "id": "8c69c34e",
   "metadata": {},
   "outputs": [],
   "source": [
    "df_final_joined = df_final_grouped.merge(df_pagare, on='idCredito', how='inner')"
   ]
  },
  {
   "cell_type": "code",
   "execution_count": 71,
   "id": "a81750a8",
   "metadata": {},
   "outputs": [],
   "source": [
    "df_final_joined_2025 = df_final_joined.merge(df_2025_grouped, on='idCredito', how='left')\n",
    "df_final_joined_2025['proporcionPagada2025'] = df_final_joined_2025['montoCobrado2025'] / df_final_joined_2025['pagare']"
   ]
  },
  {
   "cell_type": "code",
   "execution_count": 75,
   "id": "e03138ca",
   "metadata": {},
   "outputs": [],
   "source": [
    "df_final_joined_2025.to_csv('data/datasetFinal/df_final_joined_2025.csv', index=False)"
   ]
  }
 ],
 "metadata": {
  "kernelspec": {
   "display_name": ".venv",
   "language": "python",
   "name": "python3"
  },
  "language_info": {
   "codemirror_mode": {
    "name": "ipython",
    "version": 3
   },
   "file_extension": ".py",
   "mimetype": "text/x-python",
   "name": "python",
   "nbconvert_exporter": "python",
   "pygments_lexer": "ipython3",
   "version": "3.10.16"
  }
 },
 "nbformat": 4,
 "nbformat_minor": 5
}
