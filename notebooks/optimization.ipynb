{
 "cells": [
  {
   "cell_type": "markdown",
   "id": "c3cec7e9",
   "metadata": {},
   "source": [
    "# Optimizando"
   ]
  },
  {
   "cell_type": "code",
   "execution_count": null,
   "id": "efadc3ac",
   "metadata": {},
   "outputs": [
    {
     "name": "stdout",
     "output_type": "stream",
     "text": [
      "   id_cobro banco_asignado  costo_esperado\n",
      "0       101           BanB             2.1\n",
      "1       102           BanB             2.1\n",
      "2       103           BanB             2.1\n"
     ]
    }
   ],
   "source": [
    "import pandas as pd\n",
    "\n"
   ]
  },
  {
   "cell_type": "code",
   "execution_count": null,
   "id": "955804f7",
   "metadata": {},
   "outputs": [],
   "source": [
    "df = pd.read_csv(\"\")"
   ]
  },
  {
   "cell_type": "code",
   "execution_count": null,
   "id": "e303f080",
   "metadata": {},
   "outputs": [],
   "source": [
    "\n",
    "# Bancos con características\n",
    "bancos = pd.DataFrame({\n",
    "    'banco': ['BanA', 'BanB', 'BanC'],\n",
    "    'comision': [3.8, 0.5, 2.0],                  # en pesos\n",
    "    #'tiempo_respuesta': [1, 2, 1.5],              # en días\n",
    "    'probabilidad_exito': [0.99, 0.20, 0.85]      # estimada\n",
    "})\n",
    "\n",
    "# Cobros a realizar\n",
    "cobros = pd.DataFrame({\n",
    "    'id_cobro': [101, 102, 103],\n",
    "    'monto': [1000, 2500, 1200]\n",
    "})\n",
    "\n",
    "# Penalización por intento fallido (por ejemplo: costo de operación extra)\n",
    "penalizacion = 2.0\n",
    "\n",
    "asignaciones = []\n",
    "\n",
    "for _, cobro in cobros.iterrows():\n",
    "    mejor_banco = None\n",
    "    mejor_costo = float('inf')\n",
    "\n",
    "    for _, banco in bancos.iterrows():\n",
    "        costo_esperado = banco['comision'] + penalizacion * (1 - banco['probabilidad_exito'])\n",
    "\n",
    "        if costo_esperado < mejor_costo:\n",
    "            mejor_costo = costo_esperado\n",
    "            mejor_banco = banco['banco']\n",
    "\n",
    "    asignaciones.append({\n",
    "        'id_cobro': cobro['id_cobro'],\n",
    "        'banco_asignado': mejor_banco,\n",
    "        'costo_esperado': mejor_costo\n",
    "    })\n",
    "\n",
    "resultado = pd.DataFrame(asignaciones)\n",
    "print(resultado)\n"
   ]
  }
 ],
 "metadata": {
  "kernelspec": {
   "display_name": ".venv",
   "language": "python",
   "name": "python3"
  },
  "language_info": {
   "codemirror_mode": {
    "name": "ipython",
    "version": 3
   },
   "file_extension": ".py",
   "mimetype": "text/x-python",
   "name": "python",
   "nbconvert_exporter": "python",
   "pygments_lexer": "ipython3",
   "version": "3.10.14"
  }
 },
 "nbformat": 4,
 "nbformat_minor": 5
}
