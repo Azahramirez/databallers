{
 "cells": [
  {
   "cell_type": "markdown",
   "id": "2fbe2276",
   "metadata": {},
   "source": [
    "# Converting the cat dictionaries into dictionaries:\n",
    "\n"
   ]
  },
  {
   "cell_type": "code",
   "execution_count": 1,
   "id": "855f96ff",
   "metadata": {},
   "outputs": [],
   "source": [
    "import pandas as pd\n",
    "import os \n"
   ]
  },
  {
   "cell_type": "code",
   "execution_count": 2,
   "id": "9cd2ebeb",
   "metadata": {},
   "outputs": [
    {
     "name": "stdout",
     "output_type": "stream",
     "text": [
      "['CatMotivosRespuestaBanco.csv', 'CatStatusOptDirectDebit.csv', 'CatStatusOptDirectDebitPayment.csv', 'DirecDebitConfigExcecute.csv', 'ProcessConfig.csv', 'catbank.csv']\n"
     ]
    }
   ],
   "source": [
    "cat_files = []\n",
    "with open (\"../data/cat_files.txt\", \"r\") as f:\n",
    "    for line in f:\n",
    "        cat_files.append(line.strip())\n",
    "print(cat_files)"
   ]
  },
  {
   "cell_type": "code",
   "execution_count": 3,
   "id": "a6ce94b9",
   "metadata": {},
   "outputs": [],
   "source": [
    "def get_dictionaries(filename:str) -> dict:\n",
    "    \"\"\"\n",
    "    Reads a CSV file and returns a dictionary with the first column as keys and the second column as values.\n",
    "    \n",
    "    Args:\n",
    "        filename (str): The path to the CSV file.\n",
    "        \n",
    "    Returns:\n",
    "        dict: A dictionary with the first column as keys and the second column as values.\n",
    "    \"\"\"\n",
    "    # Read the CSV file into a DataFrame\n",
    "    df = pd.read_csv(filename, header=None)\n",
    "    \n",
    "    # Create a dictionary from the DataFrame\n",
    "    dictionary = dict(zip(df.iloc[:, 0], df.iloc[:, 1]))\n",
    "    return dictionary"
   ]
  },
  {
   "cell_type": "code",
   "execution_count": 4,
   "id": "227ed950",
   "metadata": {},
   "outputs": [],
   "source": [
    "dictionaries = {}\n",
    "path = \"../data/\"\n",
    "for file in cat_files:\n",
    "    # Get the full path of the file\n",
    "    file_path = os.path.join(path, file)\n",
    "    \n",
    "    # Check if the file exists\n",
    "    if os.path.exists(file_path):\n",
    "        # Read the dictionary from the file\n",
    "        dictionaries[file] = get_dictionaries(file_path)\n",
    "    else:\n",
    "        print(f\"File {file} does not exist.\")\n",
    "\n",
    "\n",
    "\n",
    "    \n",
    "\n"
   ]
  },
  {
   "cell_type": "code",
   "execution_count": null,
   "id": "8872afd8",
   "metadata": {},
   "outputs": [],
   "source": []
  },
  {
   "cell_type": "code",
   "execution_count": null,
   "id": "bb439073",
   "metadata": {},
   "outputs": [],
   "source": []
  }
 ],
 "metadata": {
  "kernelspec": {
   "display_name": ".venv",
   "language": "python",
   "name": "python3"
  },
  "language_info": {
   "codemirror_mode": {
    "name": "ipython",
    "version": 3
   },
   "file_extension": ".py",
   "mimetype": "text/x-python",
   "name": "python",
   "nbconvert_exporter": "python",
   "pygments_lexer": "ipython3",
   "version": "3.10.16"
  }
 },
 "nbformat": 4,
 "nbformat_minor": 5
}
