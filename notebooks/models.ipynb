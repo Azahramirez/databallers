{
 "cells": [
  {
   "cell_type": "markdown",
   "id": "0f3562cb",
   "metadata": {},
   "source": [
    "# Notebook probando predecir la probabilidad de éxito de cobro"
   ]
  },
  {
   "cell_type": "code",
   "execution_count": 115,
   "id": "5513c487",
   "metadata": {},
   "outputs": [],
   "source": [
    "import pandas as pd\n",
    "import numpy as np\n",
    "from datetime import datetime\n",
    "from dateutil import parser"
   ]
  },
  {
   "cell_type": "code",
   "execution_count": 116,
   "id": "050c8ccb",
   "metadata": {},
   "outputs": [
    {
     "name": "stderr",
     "output_type": "stream",
     "text": [
      "C:\\Users\\angel\\AppData\\Local\\Temp\\ipykernel_25320\\1335326567.py:2: DtypeWarning: Columns (8) have mixed types. Specify dtype option on import or set low_memory=False.\n",
      "  df = pd.read_csv('../data/cobros_final.csv')\n"
     ]
    }
   ],
   "source": [
    "# Cargar los datos\n",
    "df = pd.read_csv('../data/cobros_final.csv')"
   ]
  },
  {
   "cell_type": "code",
   "execution_count": 117,
   "id": "d56547f0",
   "metadata": {},
   "outputs": [
    {
     "data": {
      "application/vnd.microsoft.datawrangler.viewer.v0+json": {
       "columns": [
        {
         "name": "index",
         "rawType": "object",
         "type": "string"
        },
        {
         "name": "0",
         "rawType": "int64",
         "type": "integer"
        }
       ],
       "ref": "e500e9a7-ae65-4ccb-94e9-e690fc2fe57b",
       "rows": [
        [
         "idListaCobro",
         "0"
        ],
        [
         "idCredito",
         "0"
        ],
        [
         "consecutivoCobro",
         "0"
        ],
        [
         "idBanco",
         "0"
        ],
        [
         "montoExigible",
         "0"
        ],
        [
         "montoCobrar",
         "0"
        ],
        [
         "montoCobrado",
         "0"
        ],
        [
         "fechaCobroBanco",
         "9679374"
        ],
        [
         "idRespuestaBanco",
         "149561"
        ],
        [
         "fechaCreacionLista",
         "0"
        ],
        [
         "fechaEnvioCobro",
         "0"
        ],
        [
         "idEmisora",
         "0"
        ]
       ],
       "shape": {
        "columns": 1,
        "rows": 12
       }
      },
      "text/plain": [
       "idListaCobro                0\n",
       "idCredito                   0\n",
       "consecutivoCobro            0\n",
       "idBanco                     0\n",
       "montoExigible               0\n",
       "montoCobrar                 0\n",
       "montoCobrado                0\n",
       "fechaCobroBanco       9679374\n",
       "idRespuestaBanco       149561\n",
       "fechaCreacionLista          0\n",
       "fechaEnvioCobro             0\n",
       "idEmisora                   0\n",
       "dtype: int64"
      ]
     },
     "execution_count": 117,
     "metadata": {},
     "output_type": "execute_result"
    }
   ],
   "source": [
    "# Count nulls\n",
    "nulls = df.isnull().sum()\n",
    "nulls"
   ]
  },
  {
   "cell_type": "code",
   "execution_count": 118,
   "id": "4967b707",
   "metadata": {},
   "outputs": [
    {
     "data": {
      "application/vnd.microsoft.datawrangler.viewer.v0+json": {
       "columns": [
        {
         "name": "index",
         "rawType": "int64",
         "type": "integer"
        },
        {
         "name": "idListaCobro",
         "rawType": "int64",
         "type": "integer"
        },
        {
         "name": "idCredito",
         "rawType": "int64",
         "type": "integer"
        },
        {
         "name": "consecutivoCobro",
         "rawType": "int64",
         "type": "integer"
        },
        {
         "name": "idBanco",
         "rawType": "object",
         "type": "string"
        },
        {
         "name": "montoExigible",
         "rawType": "float64",
         "type": "float"
        },
        {
         "name": "montoCobrar",
         "rawType": "float64",
         "type": "float"
        },
        {
         "name": "montoCobrado",
         "rawType": "float64",
         "type": "float"
        },
        {
         "name": "fechaCobroBanco",
         "rawType": "object",
         "type": "unknown"
        },
        {
         "name": "idRespuestaBanco",
         "rawType": "object",
         "type": "string"
        },
        {
         "name": "fechaCreacionLista",
         "rawType": "object",
         "type": "string"
        },
        {
         "name": "fechaEnvioCobro",
         "rawType": "object",
         "type": "string"
        },
        {
         "name": "idEmisora",
         "rawType": "object",
         "type": "string"
        }
       ],
       "ref": "f02897ba-a512-476b-a264-9719e6decdba",
       "rows": [
        [
         "0",
         "100613",
         "83021",
         "27169966",
         "BANAMEX",
         "572.24",
         "572.24",
         "0.0",
         null,
         "Cuenta Insuficiencia Fondos",
         "30/09/2022 7:33AM",
         "30/09/2022",
         "Banamex Excepciones Cuenta                        "
        ],
        [
         "1",
         "100613",
         "87227",
         "27169937",
         "BANAMEX",
         "517.74",
         "517.74",
         "0.0",
         null,
         "Cuenta Insuficiencia Fondos",
         "30/09/2022 7:33AM",
         "30/09/2022",
         "Banamex Excepciones Cuenta                        "
        ],
        [
         "2",
         "100613",
         "103785",
         "27169946",
         "BANAMEX",
         "681.23",
         "681.23",
         "0.0",
         null,
         "Cuenta Insuficiencia Fondos",
         "30/09/2022 7:33AM",
         "30/09/2022",
         "Banamex Excepciones Cuenta                        "
        ],
        [
         "3",
         "100613",
         "110463",
         "27169969",
         "BANAMEX",
         "572.24",
         "572.24",
         "0.0",
         null,
         "Cuenta Insuficiencia Fondos",
         "30/09/2022 7:33AM",
         "30/09/2022",
         "Banamex Excepciones Cuenta                        "
        ],
        [
         "4",
         "100613",
         "113755",
         "27169948",
         "BANAMEX",
         "340.62",
         "340.62",
         "0.0",
         null,
         "Cuenta Insuficiencia Fondos",
         "30/09/2022 7:33AM",
         "30/09/2022",
         "Banamex Excepciones Cuenta                        "
        ],
        [
         "5",
         "100613",
         "118237",
         "27169957",
         "BANAMEX",
         "272.5",
         "272.5",
         "0.0",
         null,
         "Cuenta Insuficiencia Fondos",
         "30/09/2022 7:33AM",
         "30/09/2022",
         "Banamex Excepciones Cuenta                        "
        ],
        [
         "6",
         "100613",
         "136004",
         "27169958",
         "BANAMEX",
         "361.06",
         "361.06",
         "0.0",
         null,
         "Cuenta Insuficiencia Fondos",
         "30/09/2022 7:33AM",
         "30/09/2022",
         "Banamex Excepciones Cuenta                        "
        ],
        [
         "7",
         "100613",
         "137382",
         "27169934",
         "BANAMEX",
         "393.94",
         "393.94",
         "0.0",
         null,
         "Cuenta Insuficiencia Fondos",
         "30/09/2022 7:33AM",
         "30/09/2022",
         "Banamex Excepciones Cuenta                        "
        ],
        [
         "8",
         "100613",
         "137885",
         "27169970",
         "BANAMEX",
         "289.02",
         "289.02",
         "0.0",
         null,
         "Cuenta Insuficiencia Fondos",
         "30/09/2022 7:33AM",
         "30/09/2022",
         "Banamex Excepciones Cuenta                        "
        ],
        [
         "9",
         "100613",
         "149399",
         "27169968",
         "BANAMEX",
         "572.24",
         "572.24",
         "0.0",
         null,
         "Cuenta Insuficiencia Fondos",
         "30/09/2022 7:33AM",
         "30/09/2022",
         "Banamex Excepciones Cuenta                        "
        ],
        [
         "10",
         "100613",
         "161534",
         "27169931",
         "BANAMEX",
         "295.02",
         "295.02",
         "0.0",
         null,
         "Cuenta Insuficiencia Fondos",
         "30/09/2022 7:33AM",
         "30/09/2022",
         "Banamex Excepciones Cuenta                        "
        ],
        [
         "11",
         "100613",
         "275360",
         "27169950",
         "BANAMEX",
         "532.99",
         "532.99",
         "0.0",
         null,
         "Cuenta Insuficiencia Fondos",
         "30/09/2022 7:33AM",
         "30/09/2022",
         "Banamex Excepciones Cuenta                        "
        ],
        [
         "12",
         "100613",
         "296810",
         "27169956",
         "BANAMEX",
         "468.15",
         "468.15",
         "0.0",
         null,
         "Cuenta Insuficiencia Fondos",
         "30/09/2022 7:33AM",
         "30/09/2022",
         "Banamex Excepciones Cuenta                        "
        ],
        [
         "13",
         "100613",
         "343551",
         "27169941",
         "BANAMEX",
         "517.68",
         "517.68",
         "0.0",
         null,
         "Cuenta Insuficiencia Fondos",
         "30/09/2022 7:33AM",
         "30/09/2022",
         "Banamex Excepciones Cuenta                        "
        ],
        [
         "14",
         "100613",
         "360034",
         "27169932",
         "BANAMEX",
         "656.59",
         "656.59",
         "0.0",
         null,
         "Cuenta Insuficiencia Fondos",
         "30/09/2022 7:33AM",
         "30/09/2022",
         "Banamex Excepciones Cuenta                        "
        ],
        [
         "15",
         "100613",
         "363720",
         "27169959",
         "BANAMEX",
         "517.68",
         "517.68",
         "0.0",
         null,
         "Cuenta Insuficiencia Fondos",
         "30/09/2022 7:33AM",
         "30/09/2022",
         "Banamex Excepciones Cuenta                        "
        ],
        [
         "16",
         "100613",
         "364627",
         "27169953",
         "BANAMEX",
         "146.49",
         "146.49",
         "0.0",
         null,
         "Cuenta Insuficiencia Fondos",
         "30/09/2022 7:33AM",
         "30/09/2022",
         "Banamex Excepciones Cuenta                        "
        ],
        [
         "17",
         "100613",
         "365595",
         "27169963",
         "BANAMEX",
         "310.61",
         "310.61",
         "0.0",
         null,
         "Cuenta Insuficiencia Fondos",
         "30/09/2022 7:33AM",
         "30/09/2022",
         "Banamex Excepciones Cuenta                        "
        ],
        [
         "18",
         "100613",
         "370244",
         "27169964",
         "BANAMEX",
         "1017.51",
         "1017.51",
         "0.0",
         null,
         "Cuenta Insuficiencia Fondos",
         "30/09/2022 7:33AM",
         "30/09/2022",
         "Banamex Excepciones Cuenta                        "
        ],
        [
         "19",
         "100613",
         "374741",
         "27169954",
         "BANAMEX",
         "517.68",
         "517.68",
         "0.0",
         null,
         "Cuenta Insuficiencia Fondos",
         "30/09/2022 7:33AM",
         "30/09/2022",
         "Banamex Excepciones Cuenta                        "
        ],
        [
         "20",
         "100613",
         "378110",
         "27169952",
         "BANAMEX",
         "142.08",
         "142.08",
         "0.0",
         null,
         "Cuenta Insuficiencia Fondos",
         "30/09/2022 7:33AM",
         "30/09/2022",
         "Banamex Excepciones Cuenta                        "
        ]
       ],
       "shape": {
        "columns": 12,
        "rows": 21
       }
      },
      "text/html": [
       "<div>\n",
       "<style scoped>\n",
       "    .dataframe tbody tr th:only-of-type {\n",
       "        vertical-align: middle;\n",
       "    }\n",
       "\n",
       "    .dataframe tbody tr th {\n",
       "        vertical-align: top;\n",
       "    }\n",
       "\n",
       "    .dataframe thead th {\n",
       "        text-align: right;\n",
       "    }\n",
       "</style>\n",
       "<table border=\"1\" class=\"dataframe\">\n",
       "  <thead>\n",
       "    <tr style=\"text-align: right;\">\n",
       "      <th></th>\n",
       "      <th>idListaCobro</th>\n",
       "      <th>idCredito</th>\n",
       "      <th>consecutivoCobro</th>\n",
       "      <th>idBanco</th>\n",
       "      <th>montoExigible</th>\n",
       "      <th>montoCobrar</th>\n",
       "      <th>montoCobrado</th>\n",
       "      <th>fechaCobroBanco</th>\n",
       "      <th>idRespuestaBanco</th>\n",
       "      <th>fechaCreacionLista</th>\n",
       "      <th>fechaEnvioCobro</th>\n",
       "      <th>idEmisora</th>\n",
       "    </tr>\n",
       "  </thead>\n",
       "  <tbody>\n",
       "    <tr>\n",
       "      <th>0</th>\n",
       "      <td>100613</td>\n",
       "      <td>83021</td>\n",
       "      <td>27169966</td>\n",
       "      <td>BANAMEX</td>\n",
       "      <td>572.24</td>\n",
       "      <td>572.24</td>\n",
       "      <td>0.0</td>\n",
       "      <td>NaN</td>\n",
       "      <td>Cuenta Insuficiencia Fondos</td>\n",
       "      <td>30/09/2022 7:33AM</td>\n",
       "      <td>30/09/2022</td>\n",
       "      <td>Banamex Excepciones Cuenta                    ...</td>\n",
       "    </tr>\n",
       "    <tr>\n",
       "      <th>1</th>\n",
       "      <td>100613</td>\n",
       "      <td>87227</td>\n",
       "      <td>27169937</td>\n",
       "      <td>BANAMEX</td>\n",
       "      <td>517.74</td>\n",
       "      <td>517.74</td>\n",
       "      <td>0.0</td>\n",
       "      <td>NaN</td>\n",
       "      <td>Cuenta Insuficiencia Fondos</td>\n",
       "      <td>30/09/2022 7:33AM</td>\n",
       "      <td>30/09/2022</td>\n",
       "      <td>Banamex Excepciones Cuenta                    ...</td>\n",
       "    </tr>\n",
       "    <tr>\n",
       "      <th>2</th>\n",
       "      <td>100613</td>\n",
       "      <td>103785</td>\n",
       "      <td>27169946</td>\n",
       "      <td>BANAMEX</td>\n",
       "      <td>681.23</td>\n",
       "      <td>681.23</td>\n",
       "      <td>0.0</td>\n",
       "      <td>NaN</td>\n",
       "      <td>Cuenta Insuficiencia Fondos</td>\n",
       "      <td>30/09/2022 7:33AM</td>\n",
       "      <td>30/09/2022</td>\n",
       "      <td>Banamex Excepciones Cuenta                    ...</td>\n",
       "    </tr>\n",
       "    <tr>\n",
       "      <th>3</th>\n",
       "      <td>100613</td>\n",
       "      <td>110463</td>\n",
       "      <td>27169969</td>\n",
       "      <td>BANAMEX</td>\n",
       "      <td>572.24</td>\n",
       "      <td>572.24</td>\n",
       "      <td>0.0</td>\n",
       "      <td>NaN</td>\n",
       "      <td>Cuenta Insuficiencia Fondos</td>\n",
       "      <td>30/09/2022 7:33AM</td>\n",
       "      <td>30/09/2022</td>\n",
       "      <td>Banamex Excepciones Cuenta                    ...</td>\n",
       "    </tr>\n",
       "    <tr>\n",
       "      <th>4</th>\n",
       "      <td>100613</td>\n",
       "      <td>113755</td>\n",
       "      <td>27169948</td>\n",
       "      <td>BANAMEX</td>\n",
       "      <td>340.62</td>\n",
       "      <td>340.62</td>\n",
       "      <td>0.0</td>\n",
       "      <td>NaN</td>\n",
       "      <td>Cuenta Insuficiencia Fondos</td>\n",
       "      <td>30/09/2022 7:33AM</td>\n",
       "      <td>30/09/2022</td>\n",
       "      <td>Banamex Excepciones Cuenta                    ...</td>\n",
       "    </tr>\n",
       "    <tr>\n",
       "      <th>5</th>\n",
       "      <td>100613</td>\n",
       "      <td>118237</td>\n",
       "      <td>27169957</td>\n",
       "      <td>BANAMEX</td>\n",
       "      <td>272.50</td>\n",
       "      <td>272.50</td>\n",
       "      <td>0.0</td>\n",
       "      <td>NaN</td>\n",
       "      <td>Cuenta Insuficiencia Fondos</td>\n",
       "      <td>30/09/2022 7:33AM</td>\n",
       "      <td>30/09/2022</td>\n",
       "      <td>Banamex Excepciones Cuenta                    ...</td>\n",
       "    </tr>\n",
       "    <tr>\n",
       "      <th>6</th>\n",
       "      <td>100613</td>\n",
       "      <td>136004</td>\n",
       "      <td>27169958</td>\n",
       "      <td>BANAMEX</td>\n",
       "      <td>361.06</td>\n",
       "      <td>361.06</td>\n",
       "      <td>0.0</td>\n",
       "      <td>NaN</td>\n",
       "      <td>Cuenta Insuficiencia Fondos</td>\n",
       "      <td>30/09/2022 7:33AM</td>\n",
       "      <td>30/09/2022</td>\n",
       "      <td>Banamex Excepciones Cuenta                    ...</td>\n",
       "    </tr>\n",
       "    <tr>\n",
       "      <th>7</th>\n",
       "      <td>100613</td>\n",
       "      <td>137382</td>\n",
       "      <td>27169934</td>\n",
       "      <td>BANAMEX</td>\n",
       "      <td>393.94</td>\n",
       "      <td>393.94</td>\n",
       "      <td>0.0</td>\n",
       "      <td>NaN</td>\n",
       "      <td>Cuenta Insuficiencia Fondos</td>\n",
       "      <td>30/09/2022 7:33AM</td>\n",
       "      <td>30/09/2022</td>\n",
       "      <td>Banamex Excepciones Cuenta                    ...</td>\n",
       "    </tr>\n",
       "    <tr>\n",
       "      <th>8</th>\n",
       "      <td>100613</td>\n",
       "      <td>137885</td>\n",
       "      <td>27169970</td>\n",
       "      <td>BANAMEX</td>\n",
       "      <td>289.02</td>\n",
       "      <td>289.02</td>\n",
       "      <td>0.0</td>\n",
       "      <td>NaN</td>\n",
       "      <td>Cuenta Insuficiencia Fondos</td>\n",
       "      <td>30/09/2022 7:33AM</td>\n",
       "      <td>30/09/2022</td>\n",
       "      <td>Banamex Excepciones Cuenta                    ...</td>\n",
       "    </tr>\n",
       "    <tr>\n",
       "      <th>9</th>\n",
       "      <td>100613</td>\n",
       "      <td>149399</td>\n",
       "      <td>27169968</td>\n",
       "      <td>BANAMEX</td>\n",
       "      <td>572.24</td>\n",
       "      <td>572.24</td>\n",
       "      <td>0.0</td>\n",
       "      <td>NaN</td>\n",
       "      <td>Cuenta Insuficiencia Fondos</td>\n",
       "      <td>30/09/2022 7:33AM</td>\n",
       "      <td>30/09/2022</td>\n",
       "      <td>Banamex Excepciones Cuenta                    ...</td>\n",
       "    </tr>\n",
       "    <tr>\n",
       "      <th>10</th>\n",
       "      <td>100613</td>\n",
       "      <td>161534</td>\n",
       "      <td>27169931</td>\n",
       "      <td>BANAMEX</td>\n",
       "      <td>295.02</td>\n",
       "      <td>295.02</td>\n",
       "      <td>0.0</td>\n",
       "      <td>NaN</td>\n",
       "      <td>Cuenta Insuficiencia Fondos</td>\n",
       "      <td>30/09/2022 7:33AM</td>\n",
       "      <td>30/09/2022</td>\n",
       "      <td>Banamex Excepciones Cuenta                    ...</td>\n",
       "    </tr>\n",
       "    <tr>\n",
       "      <th>11</th>\n",
       "      <td>100613</td>\n",
       "      <td>275360</td>\n",
       "      <td>27169950</td>\n",
       "      <td>BANAMEX</td>\n",
       "      <td>532.99</td>\n",
       "      <td>532.99</td>\n",
       "      <td>0.0</td>\n",
       "      <td>NaN</td>\n",
       "      <td>Cuenta Insuficiencia Fondos</td>\n",
       "      <td>30/09/2022 7:33AM</td>\n",
       "      <td>30/09/2022</td>\n",
       "      <td>Banamex Excepciones Cuenta                    ...</td>\n",
       "    </tr>\n",
       "    <tr>\n",
       "      <th>12</th>\n",
       "      <td>100613</td>\n",
       "      <td>296810</td>\n",
       "      <td>27169956</td>\n",
       "      <td>BANAMEX</td>\n",
       "      <td>468.15</td>\n",
       "      <td>468.15</td>\n",
       "      <td>0.0</td>\n",
       "      <td>NaN</td>\n",
       "      <td>Cuenta Insuficiencia Fondos</td>\n",
       "      <td>30/09/2022 7:33AM</td>\n",
       "      <td>30/09/2022</td>\n",
       "      <td>Banamex Excepciones Cuenta                    ...</td>\n",
       "    </tr>\n",
       "    <tr>\n",
       "      <th>13</th>\n",
       "      <td>100613</td>\n",
       "      <td>343551</td>\n",
       "      <td>27169941</td>\n",
       "      <td>BANAMEX</td>\n",
       "      <td>517.68</td>\n",
       "      <td>517.68</td>\n",
       "      <td>0.0</td>\n",
       "      <td>NaN</td>\n",
       "      <td>Cuenta Insuficiencia Fondos</td>\n",
       "      <td>30/09/2022 7:33AM</td>\n",
       "      <td>30/09/2022</td>\n",
       "      <td>Banamex Excepciones Cuenta                    ...</td>\n",
       "    </tr>\n",
       "    <tr>\n",
       "      <th>14</th>\n",
       "      <td>100613</td>\n",
       "      <td>360034</td>\n",
       "      <td>27169932</td>\n",
       "      <td>BANAMEX</td>\n",
       "      <td>656.59</td>\n",
       "      <td>656.59</td>\n",
       "      <td>0.0</td>\n",
       "      <td>NaN</td>\n",
       "      <td>Cuenta Insuficiencia Fondos</td>\n",
       "      <td>30/09/2022 7:33AM</td>\n",
       "      <td>30/09/2022</td>\n",
       "      <td>Banamex Excepciones Cuenta                    ...</td>\n",
       "    </tr>\n",
       "    <tr>\n",
       "      <th>15</th>\n",
       "      <td>100613</td>\n",
       "      <td>363720</td>\n",
       "      <td>27169959</td>\n",
       "      <td>BANAMEX</td>\n",
       "      <td>517.68</td>\n",
       "      <td>517.68</td>\n",
       "      <td>0.0</td>\n",
       "      <td>NaN</td>\n",
       "      <td>Cuenta Insuficiencia Fondos</td>\n",
       "      <td>30/09/2022 7:33AM</td>\n",
       "      <td>30/09/2022</td>\n",
       "      <td>Banamex Excepciones Cuenta                    ...</td>\n",
       "    </tr>\n",
       "    <tr>\n",
       "      <th>16</th>\n",
       "      <td>100613</td>\n",
       "      <td>364627</td>\n",
       "      <td>27169953</td>\n",
       "      <td>BANAMEX</td>\n",
       "      <td>146.49</td>\n",
       "      <td>146.49</td>\n",
       "      <td>0.0</td>\n",
       "      <td>NaN</td>\n",
       "      <td>Cuenta Insuficiencia Fondos</td>\n",
       "      <td>30/09/2022 7:33AM</td>\n",
       "      <td>30/09/2022</td>\n",
       "      <td>Banamex Excepciones Cuenta                    ...</td>\n",
       "    </tr>\n",
       "    <tr>\n",
       "      <th>17</th>\n",
       "      <td>100613</td>\n",
       "      <td>365595</td>\n",
       "      <td>27169963</td>\n",
       "      <td>BANAMEX</td>\n",
       "      <td>310.61</td>\n",
       "      <td>310.61</td>\n",
       "      <td>0.0</td>\n",
       "      <td>NaN</td>\n",
       "      <td>Cuenta Insuficiencia Fondos</td>\n",
       "      <td>30/09/2022 7:33AM</td>\n",
       "      <td>30/09/2022</td>\n",
       "      <td>Banamex Excepciones Cuenta                    ...</td>\n",
       "    </tr>\n",
       "    <tr>\n",
       "      <th>18</th>\n",
       "      <td>100613</td>\n",
       "      <td>370244</td>\n",
       "      <td>27169964</td>\n",
       "      <td>BANAMEX</td>\n",
       "      <td>1017.51</td>\n",
       "      <td>1017.51</td>\n",
       "      <td>0.0</td>\n",
       "      <td>NaN</td>\n",
       "      <td>Cuenta Insuficiencia Fondos</td>\n",
       "      <td>30/09/2022 7:33AM</td>\n",
       "      <td>30/09/2022</td>\n",
       "      <td>Banamex Excepciones Cuenta                    ...</td>\n",
       "    </tr>\n",
       "    <tr>\n",
       "      <th>19</th>\n",
       "      <td>100613</td>\n",
       "      <td>374741</td>\n",
       "      <td>27169954</td>\n",
       "      <td>BANAMEX</td>\n",
       "      <td>517.68</td>\n",
       "      <td>517.68</td>\n",
       "      <td>0.0</td>\n",
       "      <td>NaN</td>\n",
       "      <td>Cuenta Insuficiencia Fondos</td>\n",
       "      <td>30/09/2022 7:33AM</td>\n",
       "      <td>30/09/2022</td>\n",
       "      <td>Banamex Excepciones Cuenta                    ...</td>\n",
       "    </tr>\n",
       "    <tr>\n",
       "      <th>20</th>\n",
       "      <td>100613</td>\n",
       "      <td>378110</td>\n",
       "      <td>27169952</td>\n",
       "      <td>BANAMEX</td>\n",
       "      <td>142.08</td>\n",
       "      <td>142.08</td>\n",
       "      <td>0.0</td>\n",
       "      <td>NaN</td>\n",
       "      <td>Cuenta Insuficiencia Fondos</td>\n",
       "      <td>30/09/2022 7:33AM</td>\n",
       "      <td>30/09/2022</td>\n",
       "      <td>Banamex Excepciones Cuenta                    ...</td>\n",
       "    </tr>\n",
       "  </tbody>\n",
       "</table>\n",
       "</div>"
      ],
      "text/plain": [
       "    idListaCobro  idCredito  consecutivoCobro  idBanco  montoExigible  \\\n",
       "0         100613      83021          27169966  BANAMEX         572.24   \n",
       "1         100613      87227          27169937  BANAMEX         517.74   \n",
       "2         100613     103785          27169946  BANAMEX         681.23   \n",
       "3         100613     110463          27169969  BANAMEX         572.24   \n",
       "4         100613     113755          27169948  BANAMEX         340.62   \n",
       "5         100613     118237          27169957  BANAMEX         272.50   \n",
       "6         100613     136004          27169958  BANAMEX         361.06   \n",
       "7         100613     137382          27169934  BANAMEX         393.94   \n",
       "8         100613     137885          27169970  BANAMEX         289.02   \n",
       "9         100613     149399          27169968  BANAMEX         572.24   \n",
       "10        100613     161534          27169931  BANAMEX         295.02   \n",
       "11        100613     275360          27169950  BANAMEX         532.99   \n",
       "12        100613     296810          27169956  BANAMEX         468.15   \n",
       "13        100613     343551          27169941  BANAMEX         517.68   \n",
       "14        100613     360034          27169932  BANAMEX         656.59   \n",
       "15        100613     363720          27169959  BANAMEX         517.68   \n",
       "16        100613     364627          27169953  BANAMEX         146.49   \n",
       "17        100613     365595          27169963  BANAMEX         310.61   \n",
       "18        100613     370244          27169964  BANAMEX        1017.51   \n",
       "19        100613     374741          27169954  BANAMEX         517.68   \n",
       "20        100613     378110          27169952  BANAMEX         142.08   \n",
       "\n",
       "    montoCobrar  montoCobrado fechaCobroBanco             idRespuestaBanco  \\\n",
       "0        572.24           0.0             NaN  Cuenta Insuficiencia Fondos   \n",
       "1        517.74           0.0             NaN  Cuenta Insuficiencia Fondos   \n",
       "2        681.23           0.0             NaN  Cuenta Insuficiencia Fondos   \n",
       "3        572.24           0.0             NaN  Cuenta Insuficiencia Fondos   \n",
       "4        340.62           0.0             NaN  Cuenta Insuficiencia Fondos   \n",
       "5        272.50           0.0             NaN  Cuenta Insuficiencia Fondos   \n",
       "6        361.06           0.0             NaN  Cuenta Insuficiencia Fondos   \n",
       "7        393.94           0.0             NaN  Cuenta Insuficiencia Fondos   \n",
       "8        289.02           0.0             NaN  Cuenta Insuficiencia Fondos   \n",
       "9        572.24           0.0             NaN  Cuenta Insuficiencia Fondos   \n",
       "10       295.02           0.0             NaN  Cuenta Insuficiencia Fondos   \n",
       "11       532.99           0.0             NaN  Cuenta Insuficiencia Fondos   \n",
       "12       468.15           0.0             NaN  Cuenta Insuficiencia Fondos   \n",
       "13       517.68           0.0             NaN  Cuenta Insuficiencia Fondos   \n",
       "14       656.59           0.0             NaN  Cuenta Insuficiencia Fondos   \n",
       "15       517.68           0.0             NaN  Cuenta Insuficiencia Fondos   \n",
       "16       146.49           0.0             NaN  Cuenta Insuficiencia Fondos   \n",
       "17       310.61           0.0             NaN  Cuenta Insuficiencia Fondos   \n",
       "18      1017.51           0.0             NaN  Cuenta Insuficiencia Fondos   \n",
       "19       517.68           0.0             NaN  Cuenta Insuficiencia Fondos   \n",
       "20       142.08           0.0             NaN  Cuenta Insuficiencia Fondos   \n",
       "\n",
       "   fechaCreacionLista fechaEnvioCobro  \\\n",
       "0   30/09/2022 7:33AM      30/09/2022   \n",
       "1   30/09/2022 7:33AM      30/09/2022   \n",
       "2   30/09/2022 7:33AM      30/09/2022   \n",
       "3   30/09/2022 7:33AM      30/09/2022   \n",
       "4   30/09/2022 7:33AM      30/09/2022   \n",
       "5   30/09/2022 7:33AM      30/09/2022   \n",
       "6   30/09/2022 7:33AM      30/09/2022   \n",
       "7   30/09/2022 7:33AM      30/09/2022   \n",
       "8   30/09/2022 7:33AM      30/09/2022   \n",
       "9   30/09/2022 7:33AM      30/09/2022   \n",
       "10  30/09/2022 7:33AM      30/09/2022   \n",
       "11  30/09/2022 7:33AM      30/09/2022   \n",
       "12  30/09/2022 7:33AM      30/09/2022   \n",
       "13  30/09/2022 7:33AM      30/09/2022   \n",
       "14  30/09/2022 7:33AM      30/09/2022   \n",
       "15  30/09/2022 7:33AM      30/09/2022   \n",
       "16  30/09/2022 7:33AM      30/09/2022   \n",
       "17  30/09/2022 7:33AM      30/09/2022   \n",
       "18  30/09/2022 7:33AM      30/09/2022   \n",
       "19  30/09/2022 7:33AM      30/09/2022   \n",
       "20  30/09/2022 7:33AM      30/09/2022   \n",
       "\n",
       "                                            idEmisora  \n",
       "0   Banamex Excepciones Cuenta                    ...  \n",
       "1   Banamex Excepciones Cuenta                    ...  \n",
       "2   Banamex Excepciones Cuenta                    ...  \n",
       "3   Banamex Excepciones Cuenta                    ...  \n",
       "4   Banamex Excepciones Cuenta                    ...  \n",
       "5   Banamex Excepciones Cuenta                    ...  \n",
       "6   Banamex Excepciones Cuenta                    ...  \n",
       "7   Banamex Excepciones Cuenta                    ...  \n",
       "8   Banamex Excepciones Cuenta                    ...  \n",
       "9   Banamex Excepciones Cuenta                    ...  \n",
       "10  Banamex Excepciones Cuenta                    ...  \n",
       "11  Banamex Excepciones Cuenta                    ...  \n",
       "12  Banamex Excepciones Cuenta                    ...  \n",
       "13  Banamex Excepciones Cuenta                    ...  \n",
       "14  Banamex Excepciones Cuenta                    ...  \n",
       "15  Banamex Excepciones Cuenta                    ...  \n",
       "16  Banamex Excepciones Cuenta                    ...  \n",
       "17  Banamex Excepciones Cuenta                    ...  \n",
       "18  Banamex Excepciones Cuenta                    ...  \n",
       "19  Banamex Excepciones Cuenta                    ...  \n",
       "20  Banamex Excepciones Cuenta                    ...  "
      ]
     },
     "execution_count": 118,
     "metadata": {},
     "output_type": "execute_result"
    }
   ],
   "source": [
    "df.head(21)"
   ]
  },
  {
   "cell_type": "code",
   "execution_count": 119,
   "id": "351bcc35",
   "metadata": {},
   "outputs": [
    {
     "data": {
      "application/vnd.microsoft.datawrangler.viewer.v0+json": {
       "columns": [
        {
         "name": "index",
         "rawType": "int64",
         "type": "integer"
        },
        {
         "name": "idCredito",
         "rawType": "int64",
         "type": "integer"
        },
        {
         "name": "non_zero_count",
         "rawType": "int64",
         "type": "integer"
        }
       ],
       "ref": "cc0e2a99-04a2-447e-8013-4560f1a5f679",
       "rows": [
        [
         "0",
         "6",
         "2"
        ],
        [
         "1",
         "560",
         "1"
        ],
        [
         "2",
         "773",
         "2"
        ],
        [
         "3",
         "1154",
         "2"
        ],
        [
         "4",
         "1315",
         "2"
        ],
        [
         "5",
         "1340",
         "2"
        ],
        [
         "6",
         "2292",
         "2"
        ],
        [
         "7",
         "2894",
         "2"
        ],
        [
         "8",
         "3280",
         "2"
        ],
        [
         "9",
         "3316",
         "1"
        ],
        [
         "10",
         "3674",
         "1"
        ],
        [
         "11",
         "3821",
         "1"
        ],
        [
         "12",
         "4635",
         "16"
        ],
        [
         "13",
         "4914",
         "20"
        ],
        [
         "14",
         "5058",
         "2"
        ],
        [
         "15",
         "5651",
         "2"
        ],
        [
         "16",
         "5851",
         "2"
        ],
        [
         "17",
         "6572",
         "2"
        ],
        [
         "18",
         "6699",
         "2"
        ],
        [
         "19",
         "7896",
         "1"
        ],
        [
         "20",
         "8251",
         "1"
        ],
        [
         "21",
         "8690",
         "1"
        ],
        [
         "22",
         "8947",
         "19"
        ],
        [
         "23",
         "8972",
         "3"
        ],
        [
         "24",
         "9066",
         "2"
        ],
        [
         "25",
         "9872",
         "671"
        ],
        [
         "26",
         "10073",
         "1"
        ],
        [
         "27",
         "10297",
         "3"
        ],
        [
         "28",
         "10327",
         "4"
        ],
        [
         "29",
         "10439",
         "2"
        ],
        [
         "30",
         "10456",
         "17"
        ],
        [
         "31",
         "10983",
         "5"
        ],
        [
         "32",
         "11072",
         "1"
        ],
        [
         "33",
         "11156",
         "2"
        ],
        [
         "34",
         "11576",
         "1"
        ],
        [
         "35",
         "11592",
         "2"
        ],
        [
         "36",
         "11616",
         "3"
        ],
        [
         "37",
         "11755",
         "1"
        ],
        [
         "38",
         "12541",
         "1"
        ],
        [
         "39",
         "12860",
         "1"
        ],
        [
         "40",
         "13373",
         "1"
        ],
        [
         "41",
         "13403",
         "62"
        ],
        [
         "42",
         "13442",
         "2"
        ],
        [
         "43",
         "13570",
         "1"
        ],
        [
         "44",
         "14093",
         "2"
        ],
        [
         "45",
         "14168",
         "2"
        ],
        [
         "46",
         "14257",
         "1"
        ],
        [
         "47",
         "14335",
         "2"
        ],
        [
         "48",
         "14687",
         "2"
        ],
        [
         "49",
         "14774",
         "1"
        ]
       ],
       "shape": {
        "columns": 2,
        "rows": 90191
       }
      },
      "text/html": [
       "<div>\n",
       "<style scoped>\n",
       "    .dataframe tbody tr th:only-of-type {\n",
       "        vertical-align: middle;\n",
       "    }\n",
       "\n",
       "    .dataframe tbody tr th {\n",
       "        vertical-align: top;\n",
       "    }\n",
       "\n",
       "    .dataframe thead th {\n",
       "        text-align: right;\n",
       "    }\n",
       "</style>\n",
       "<table border=\"1\" class=\"dataframe\">\n",
       "  <thead>\n",
       "    <tr style=\"text-align: right;\">\n",
       "      <th></th>\n",
       "      <th>idCredito</th>\n",
       "      <th>non_zero_count</th>\n",
       "    </tr>\n",
       "  </thead>\n",
       "  <tbody>\n",
       "    <tr>\n",
       "      <th>0</th>\n",
       "      <td>6</td>\n",
       "      <td>2</td>\n",
       "    </tr>\n",
       "    <tr>\n",
       "      <th>1</th>\n",
       "      <td>560</td>\n",
       "      <td>1</td>\n",
       "    </tr>\n",
       "    <tr>\n",
       "      <th>2</th>\n",
       "      <td>773</td>\n",
       "      <td>2</td>\n",
       "    </tr>\n",
       "    <tr>\n",
       "      <th>3</th>\n",
       "      <td>1154</td>\n",
       "      <td>2</td>\n",
       "    </tr>\n",
       "    <tr>\n",
       "      <th>4</th>\n",
       "      <td>1315</td>\n",
       "      <td>2</td>\n",
       "    </tr>\n",
       "    <tr>\n",
       "      <th>...</th>\n",
       "      <td>...</td>\n",
       "      <td>...</td>\n",
       "    </tr>\n",
       "    <tr>\n",
       "      <th>90186</th>\n",
       "      <td>755612</td>\n",
       "      <td>9</td>\n",
       "    </tr>\n",
       "    <tr>\n",
       "      <th>90187</th>\n",
       "      <td>755650</td>\n",
       "      <td>6</td>\n",
       "    </tr>\n",
       "    <tr>\n",
       "      <th>90188</th>\n",
       "      <td>755676</td>\n",
       "      <td>1</td>\n",
       "    </tr>\n",
       "    <tr>\n",
       "      <th>90189</th>\n",
       "      <td>755859</td>\n",
       "      <td>16</td>\n",
       "    </tr>\n",
       "    <tr>\n",
       "      <th>90190</th>\n",
       "      <td>756595</td>\n",
       "      <td>4</td>\n",
       "    </tr>\n",
       "  </tbody>\n",
       "</table>\n",
       "<p>90191 rows × 2 columns</p>\n",
       "</div>"
      ],
      "text/plain": [
       "       idCredito  non_zero_count\n",
       "0              6               2\n",
       "1            560               1\n",
       "2            773               2\n",
       "3           1154               2\n",
       "4           1315               2\n",
       "...          ...             ...\n",
       "90186     755612               9\n",
       "90187     755650               6\n",
       "90188     755676               1\n",
       "90189     755859              16\n",
       "90190     756595               4\n",
       "\n",
       "[90191 rows x 2 columns]"
      ]
     },
     "execution_count": 119,
     "metadata": {},
     "output_type": "execute_result"
    }
   ],
   "source": [
    "# Group by idCredito and sum the times montoCobrado is different than 0\n",
    "countnopagar = df[df['montoCobrado'] == 0].groupby('idCredito').size().reset_index(name='non_zero_count')\n",
    "countnopagar\n"
   ]
  },
  {
   "cell_type": "code",
   "execution_count": 120,
   "id": "767f444d",
   "metadata": {},
   "outputs": [
    {
     "data": {
      "application/vnd.microsoft.datawrangler.viewer.v0+json": {
       "columns": [
        {
         "name": "idCredito",
         "rawType": "int64",
         "type": "integer"
        },
        {
         "name": "idBanco",
         "rawType": "int64",
         "type": "integer"
        }
       ],
       "ref": "f6f376b7-d990-457d-ac0c-ba9933a26e59",
       "rows": [
        [
         "6",
         "2"
        ],
        [
         "560",
         "1"
        ],
        [
         "773",
         "2"
        ],
        [
         "1154",
         "2"
        ],
        [
         "1315",
         "2"
        ],
        [
         "1340",
         "2"
        ],
        [
         "2292",
         "2"
        ],
        [
         "2894",
         "2"
        ],
        [
         "3280",
         "2"
        ],
        [
         "3316",
         "1"
        ],
        [
         "3674",
         "1"
        ],
        [
         "3821",
         "1"
        ],
        [
         "4635",
         "19"
        ],
        [
         "4914",
         "21"
        ],
        [
         "5058",
         "2"
        ],
        [
         "5651",
         "2"
        ],
        [
         "5851",
         "2"
        ],
        [
         "6572",
         "2"
        ],
        [
         "6699",
         "2"
        ],
        [
         "7896",
         "1"
        ],
        [
         "8251",
         "1"
        ],
        [
         "8690",
         "1"
        ],
        [
         "8947",
         "19"
        ],
        [
         "8972",
         "3"
        ],
        [
         "9066",
         "2"
        ],
        [
         "9872",
         "671"
        ],
        [
         "10073",
         "1"
        ],
        [
         "10297",
         "3"
        ],
        [
         "10327",
         "4"
        ],
        [
         "10439",
         "2"
        ],
        [
         "10456",
         "17"
        ],
        [
         "10983",
         "8"
        ],
        [
         "11072",
         "1"
        ],
        [
         "11156",
         "2"
        ],
        [
         "11576",
         "1"
        ],
        [
         "11592",
         "2"
        ],
        [
         "11616",
         "3"
        ],
        [
         "11755",
         "1"
        ],
        [
         "12541",
         "1"
        ],
        [
         "12860",
         "1"
        ],
        [
         "13373",
         "1"
        ],
        [
         "13403",
         "62"
        ],
        [
         "13442",
         "2"
        ],
        [
         "13570",
         "1"
        ],
        [
         "14093",
         "2"
        ],
        [
         "14168",
         "2"
        ],
        [
         "14257",
         "1"
        ],
        [
         "14335",
         "2"
        ],
        [
         "14687",
         "2"
        ],
        [
         "14774",
         "1"
        ]
       ],
       "shape": {
        "columns": 1,
        "rows": 97230
       }
      },
      "text/plain": [
       "idCredito\n",
       "6          2\n",
       "560        1\n",
       "773        2\n",
       "1154       2\n",
       "1315       2\n",
       "          ..\n",
       "755683     1\n",
       "755695     1\n",
       "755726     1\n",
       "755859    16\n",
       "756595     5\n",
       "Name: idBanco, Length: 97230, dtype: int64"
      ]
     },
     "execution_count": 120,
     "metadata": {},
     "output_type": "execute_result"
    }
   ],
   "source": [
    "counttotal = df.groupby('idCredito')[\"idBanco\"].count()\n",
    "counttotal"
   ]
  },
  {
   "cell_type": "code",
   "execution_count": 121,
   "id": "9fe575b9",
   "metadata": {},
   "outputs": [
    {
     "data": {
      "application/vnd.microsoft.datawrangler.viewer.v0+json": {
       "columns": [
        {
         "name": "idCredito",
         "rawType": "int64",
         "type": "integer"
        },
        {
         "name": "idBanco",
         "rawType": "int64",
         "type": "integer"
        }
       ],
       "ref": "cb62e3e2-d7df-40f0-8ed9-61f124a3de6a",
       "rows": [
        [
         "20873",
         "1"
        ],
        [
         "46038",
         "2"
        ],
        [
         "46590",
         "1"
        ],
        [
         "54690",
         "1"
        ],
        [
         "57667",
         "4"
        ],
        [
         "70713",
         "1"
        ],
        [
         "74472",
         "4"
        ],
        [
         "76947",
         "1"
        ],
        [
         "90785",
         "1"
        ],
        [
         "112137",
         "1"
        ],
        [
         "130003",
         "3"
        ],
        [
         "139913",
         "1"
        ],
        [
         "140145",
         "3"
        ],
        [
         "157227",
         "1"
        ],
        [
         "274546",
         "1"
        ],
        [
         "279595",
         "1"
        ],
        [
         "289048",
         "1"
        ],
        [
         "303506",
         "1"
        ],
        [
         "317352",
         "2"
        ],
        [
         "318932",
         "2"
        ],
        [
         "320269",
         "1"
        ],
        [
         "321061",
         "12"
        ],
        [
         "322096",
         "2"
        ],
        [
         "325678",
         "1"
        ],
        [
         "328526",
         "6"
        ],
        [
         "329219",
         "4"
        ],
        [
         "329565",
         "4"
        ],
        [
         "331044",
         "1"
        ],
        [
         "334024",
         "1"
        ],
        [
         "334693",
         "13"
        ],
        [
         "335320",
         "2"
        ],
        [
         "335472",
         "1"
        ],
        [
         "336307",
         "2"
        ],
        [
         "337255",
         "1"
        ],
        [
         "340585",
         "3"
        ],
        [
         "342133",
         "1"
        ],
        [
         "344512",
         "1"
        ],
        [
         "346442",
         "1"
        ],
        [
         "348645",
         "1"
        ],
        [
         "351413",
         "1"
        ],
        [
         "353633",
         "1"
        ],
        [
         "356841",
         "4"
        ],
        [
         "358647",
         "1"
        ],
        [
         "362652",
         "2"
        ],
        [
         "367767",
         "1"
        ],
        [
         "367794",
         "4"
        ],
        [
         "370709",
         "2"
        ],
        [
         "371699",
         "1"
        ],
        [
         "371740",
         "2"
        ],
        [
         "373486",
         "7"
        ]
       ],
       "shape": {
        "columns": 1,
        "rows": 7039
       }
      },
      "text/plain": [
       "idCredito\n",
       "20873     1\n",
       "46038     2\n",
       "46590     1\n",
       "54690     1\n",
       "57667     4\n",
       "         ..\n",
       "755668    1\n",
       "755672    1\n",
       "755683    1\n",
       "755695    1\n",
       "755726    1\n",
       "Name: idBanco, Length: 7039, dtype: int64"
      ]
     },
     "execution_count": 121,
     "metadata": {},
     "output_type": "execute_result"
    }
   ],
   "source": [
    "# Select the index that appear on countnopagar that are not on counttotal\n",
    "siemprepago = counttotal[~counttotal.index.isin(countnopagar['idCredito'])]\n",
    "siemprepago"
   ]
  },
  {
   "cell_type": "code",
   "execution_count": 122,
   "id": "0f7675e6",
   "metadata": {},
   "outputs": [
    {
     "data": {
      "application/vnd.microsoft.datawrangler.viewer.v0+json": {
       "columns": [
        {
         "name": "index",
         "rawType": "int64",
         "type": "integer"
        },
        {
         "name": "idCredito",
         "rawType": "int64",
         "type": "integer"
        },
        {
         "name": "idBanco",
         "rawType": "int64",
         "type": "integer"
        }
       ],
       "ref": "5bfd2c8e-c6c4-45c3-a779-494928c819a9",
       "rows": [
        [
         "0",
         "6",
         "2"
        ],
        [
         "1",
         "560",
         "1"
        ],
        [
         "2",
         "773",
         "2"
        ],
        [
         "3",
         "1154",
         "2"
        ],
        [
         "4",
         "1315",
         "2"
        ],
        [
         "5",
         "1340",
         "2"
        ],
        [
         "6",
         "2292",
         "2"
        ],
        [
         "7",
         "2894",
         "2"
        ],
        [
         "8",
         "3280",
         "2"
        ],
        [
         "9",
         "3316",
         "1"
        ],
        [
         "10",
         "3674",
         "1"
        ],
        [
         "11",
         "3821",
         "1"
        ],
        [
         "12",
         "4635",
         "19"
        ],
        [
         "13",
         "4914",
         "21"
        ],
        [
         "14",
         "5058",
         "2"
        ],
        [
         "15",
         "5651",
         "2"
        ],
        [
         "16",
         "5851",
         "2"
        ],
        [
         "17",
         "6572",
         "2"
        ],
        [
         "18",
         "6699",
         "2"
        ],
        [
         "19",
         "7896",
         "1"
        ],
        [
         "20",
         "8251",
         "1"
        ],
        [
         "21",
         "8690",
         "1"
        ],
        [
         "22",
         "8947",
         "19"
        ],
        [
         "23",
         "8972",
         "3"
        ],
        [
         "24",
         "9066",
         "2"
        ],
        [
         "25",
         "9872",
         "671"
        ],
        [
         "26",
         "10073",
         "1"
        ],
        [
         "27",
         "10297",
         "3"
        ],
        [
         "28",
         "10327",
         "4"
        ],
        [
         "29",
         "10439",
         "2"
        ],
        [
         "30",
         "10456",
         "17"
        ],
        [
         "31",
         "10983",
         "8"
        ],
        [
         "32",
         "11072",
         "1"
        ],
        [
         "33",
         "11156",
         "2"
        ],
        [
         "34",
         "11576",
         "1"
        ],
        [
         "35",
         "11592",
         "2"
        ],
        [
         "36",
         "11616",
         "3"
        ],
        [
         "37",
         "11755",
         "1"
        ],
        [
         "38",
         "12541",
         "1"
        ],
        [
         "39",
         "12860",
         "1"
        ],
        [
         "40",
         "13373",
         "1"
        ],
        [
         "41",
         "13403",
         "62"
        ],
        [
         "42",
         "13442",
         "2"
        ],
        [
         "43",
         "13570",
         "1"
        ],
        [
         "44",
         "14093",
         "2"
        ],
        [
         "45",
         "14168",
         "2"
        ],
        [
         "46",
         "14257",
         "1"
        ],
        [
         "47",
         "14335",
         "2"
        ],
        [
         "48",
         "14687",
         "2"
        ],
        [
         "49",
         "14774",
         "1"
        ]
       ],
       "shape": {
        "columns": 2,
        "rows": 90191
       }
      },
      "text/html": [
       "<div>\n",
       "<style scoped>\n",
       "    .dataframe tbody tr th:only-of-type {\n",
       "        vertical-align: middle;\n",
       "    }\n",
       "\n",
       "    .dataframe tbody tr th {\n",
       "        vertical-align: top;\n",
       "    }\n",
       "\n",
       "    .dataframe thead th {\n",
       "        text-align: right;\n",
       "    }\n",
       "</style>\n",
       "<table border=\"1\" class=\"dataframe\">\n",
       "  <thead>\n",
       "    <tr style=\"text-align: right;\">\n",
       "      <th></th>\n",
       "      <th>idCredito</th>\n",
       "      <th>idBanco</th>\n",
       "    </tr>\n",
       "  </thead>\n",
       "  <tbody>\n",
       "    <tr>\n",
       "      <th>0</th>\n",
       "      <td>6</td>\n",
       "      <td>2</td>\n",
       "    </tr>\n",
       "    <tr>\n",
       "      <th>1</th>\n",
       "      <td>560</td>\n",
       "      <td>1</td>\n",
       "    </tr>\n",
       "    <tr>\n",
       "      <th>2</th>\n",
       "      <td>773</td>\n",
       "      <td>2</td>\n",
       "    </tr>\n",
       "    <tr>\n",
       "      <th>3</th>\n",
       "      <td>1154</td>\n",
       "      <td>2</td>\n",
       "    </tr>\n",
       "    <tr>\n",
       "      <th>4</th>\n",
       "      <td>1315</td>\n",
       "      <td>2</td>\n",
       "    </tr>\n",
       "    <tr>\n",
       "      <th>...</th>\n",
       "      <td>...</td>\n",
       "      <td>...</td>\n",
       "    </tr>\n",
       "    <tr>\n",
       "      <th>90186</th>\n",
       "      <td>755612</td>\n",
       "      <td>9</td>\n",
       "    </tr>\n",
       "    <tr>\n",
       "      <th>90187</th>\n",
       "      <td>755650</td>\n",
       "      <td>6</td>\n",
       "    </tr>\n",
       "    <tr>\n",
       "      <th>90188</th>\n",
       "      <td>755676</td>\n",
       "      <td>1</td>\n",
       "    </tr>\n",
       "    <tr>\n",
       "      <th>90189</th>\n",
       "      <td>755859</td>\n",
       "      <td>16</td>\n",
       "    </tr>\n",
       "    <tr>\n",
       "      <th>90190</th>\n",
       "      <td>756595</td>\n",
       "      <td>5</td>\n",
       "    </tr>\n",
       "  </tbody>\n",
       "</table>\n",
       "<p>90191 rows × 2 columns</p>\n",
       "</div>"
      ],
      "text/plain": [
       "       idCredito  idBanco\n",
       "0              6        2\n",
       "1            560        1\n",
       "2            773        2\n",
       "3           1154        2\n",
       "4           1315        2\n",
       "...          ...      ...\n",
       "90186     755612        9\n",
       "90187     755650        6\n",
       "90188     755676        1\n",
       "90189     755859       16\n",
       "90190     756595        5\n",
       "\n",
       "[90191 rows x 2 columns]"
      ]
     },
     "execution_count": 122,
     "metadata": {},
     "output_type": "execute_result"
    }
   ],
   "source": [
    "# Remove the rows on countottal that are on siemprepago\n",
    "counttotal = counttotal[~counttotal.index.isin(siemprepago.index)].reset_index()\n",
    "counttotal"
   ]
  },
  {
   "cell_type": "code",
   "execution_count": 123,
   "id": "bf5c5878",
   "metadata": {},
   "outputs": [
    {
     "data": {
      "application/vnd.microsoft.datawrangler.viewer.v0+json": {
       "columns": [
        {
         "name": "index",
         "rawType": "int64",
         "type": "integer"
        },
        {
         "name": "idCredito",
         "rawType": "int64",
         "type": "integer"
        },
        {
         "name": "idBanco",
         "rawType": "int64",
         "type": "integer"
        },
        {
         "name": "razon",
         "rawType": "float64",
         "type": "float"
        }
       ],
       "ref": "5e857100-ec81-4d53-87f4-14dce5f62272",
       "rows": [
        [
         "0",
         "6",
         "2",
         "0.0"
        ],
        [
         "1",
         "560",
         "1",
         "0.0"
        ],
        [
         "2",
         "773",
         "2",
         "0.0"
        ],
        [
         "3",
         "1154",
         "2",
         "0.0"
        ],
        [
         "4",
         "1315",
         "2",
         "0.0"
        ],
        [
         "5",
         "1340",
         "2",
         "0.0"
        ],
        [
         "6",
         "2292",
         "2",
         "0.0"
        ],
        [
         "7",
         "2894",
         "2",
         "0.0"
        ],
        [
         "8",
         "3280",
         "2",
         "0.0"
        ],
        [
         "9",
         "3316",
         "1",
         "0.0"
        ],
        [
         "10",
         "3674",
         "1",
         "0.0"
        ],
        [
         "11",
         "3821",
         "1",
         "0.0"
        ],
        [
         "12",
         "4635",
         "19",
         "0.1578947368421053"
        ],
        [
         "13",
         "4914",
         "21",
         "0.04761904761904767"
        ],
        [
         "14",
         "5058",
         "2",
         "0.0"
        ],
        [
         "15",
         "5651",
         "2",
         "0.0"
        ],
        [
         "16",
         "5851",
         "2",
         "0.0"
        ],
        [
         "17",
         "6572",
         "2",
         "0.0"
        ],
        [
         "18",
         "6699",
         "2",
         "0.0"
        ],
        [
         "19",
         "7896",
         "1",
         "0.0"
        ],
        [
         "20",
         "8251",
         "1",
         "0.0"
        ],
        [
         "21",
         "8690",
         "1",
         "0.0"
        ],
        [
         "22",
         "8947",
         "19",
         "0.0"
        ],
        [
         "23",
         "8972",
         "3",
         "0.0"
        ],
        [
         "24",
         "9066",
         "2",
         "0.0"
        ],
        [
         "25",
         "9872",
         "671",
         "0.0"
        ],
        [
         "26",
         "10073",
         "1",
         "0.0"
        ],
        [
         "27",
         "10297",
         "3",
         "0.0"
        ],
        [
         "28",
         "10327",
         "4",
         "0.0"
        ],
        [
         "29",
         "10439",
         "2",
         "0.0"
        ],
        [
         "30",
         "10456",
         "17",
         "0.0"
        ],
        [
         "31",
         "10983",
         "8",
         "0.375"
        ],
        [
         "32",
         "11072",
         "1",
         "0.0"
        ],
        [
         "33",
         "11156",
         "2",
         "0.0"
        ],
        [
         "34",
         "11576",
         "1",
         "0.0"
        ],
        [
         "35",
         "11592",
         "2",
         "0.0"
        ],
        [
         "36",
         "11616",
         "3",
         "0.0"
        ],
        [
         "37",
         "11755",
         "1",
         "0.0"
        ],
        [
         "38",
         "12541",
         "1",
         "0.0"
        ],
        [
         "39",
         "12860",
         "1",
         "0.0"
        ],
        [
         "40",
         "13373",
         "1",
         "0.0"
        ],
        [
         "41",
         "13403",
         "62",
         "0.0"
        ],
        [
         "42",
         "13442",
         "2",
         "0.0"
        ],
        [
         "43",
         "13570",
         "1",
         "0.0"
        ],
        [
         "44",
         "14093",
         "2",
         "0.0"
        ],
        [
         "45",
         "14168",
         "2",
         "0.0"
        ],
        [
         "46",
         "14257",
         "1",
         "0.0"
        ],
        [
         "47",
         "14335",
         "2",
         "0.0"
        ],
        [
         "48",
         "14687",
         "2",
         "0.0"
        ],
        [
         "49",
         "14774",
         "1",
         "0.0"
        ]
       ],
       "shape": {
        "columns": 3,
        "rows": 90191
       }
      },
      "text/html": [
       "<div>\n",
       "<style scoped>\n",
       "    .dataframe tbody tr th:only-of-type {\n",
       "        vertical-align: middle;\n",
       "    }\n",
       "\n",
       "    .dataframe tbody tr th {\n",
       "        vertical-align: top;\n",
       "    }\n",
       "\n",
       "    .dataframe thead th {\n",
       "        text-align: right;\n",
       "    }\n",
       "</style>\n",
       "<table border=\"1\" class=\"dataframe\">\n",
       "  <thead>\n",
       "    <tr style=\"text-align: right;\">\n",
       "      <th></th>\n",
       "      <th>idCredito</th>\n",
       "      <th>idBanco</th>\n",
       "      <th>razon</th>\n",
       "    </tr>\n",
       "  </thead>\n",
       "  <tbody>\n",
       "    <tr>\n",
       "      <th>0</th>\n",
       "      <td>6</td>\n",
       "      <td>2</td>\n",
       "      <td>0.0</td>\n",
       "    </tr>\n",
       "    <tr>\n",
       "      <th>1</th>\n",
       "      <td>560</td>\n",
       "      <td>1</td>\n",
       "      <td>0.0</td>\n",
       "    </tr>\n",
       "    <tr>\n",
       "      <th>2</th>\n",
       "      <td>773</td>\n",
       "      <td>2</td>\n",
       "      <td>0.0</td>\n",
       "    </tr>\n",
       "    <tr>\n",
       "      <th>3</th>\n",
       "      <td>1154</td>\n",
       "      <td>2</td>\n",
       "      <td>0.0</td>\n",
       "    </tr>\n",
       "    <tr>\n",
       "      <th>4</th>\n",
       "      <td>1315</td>\n",
       "      <td>2</td>\n",
       "      <td>0.0</td>\n",
       "    </tr>\n",
       "    <tr>\n",
       "      <th>...</th>\n",
       "      <td>...</td>\n",
       "      <td>...</td>\n",
       "      <td>...</td>\n",
       "    </tr>\n",
       "    <tr>\n",
       "      <th>90186</th>\n",
       "      <td>755612</td>\n",
       "      <td>9</td>\n",
       "      <td>0.0</td>\n",
       "    </tr>\n",
       "    <tr>\n",
       "      <th>90187</th>\n",
       "      <td>755650</td>\n",
       "      <td>6</td>\n",
       "      <td>0.0</td>\n",
       "    </tr>\n",
       "    <tr>\n",
       "      <th>90188</th>\n",
       "      <td>755676</td>\n",
       "      <td>1</td>\n",
       "      <td>0.0</td>\n",
       "    </tr>\n",
       "    <tr>\n",
       "      <th>90189</th>\n",
       "      <td>755859</td>\n",
       "      <td>16</td>\n",
       "      <td>0.0</td>\n",
       "    </tr>\n",
       "    <tr>\n",
       "      <th>90190</th>\n",
       "      <td>756595</td>\n",
       "      <td>5</td>\n",
       "      <td>0.2</td>\n",
       "    </tr>\n",
       "  </tbody>\n",
       "</table>\n",
       "<p>90191 rows × 3 columns</p>\n",
       "</div>"
      ],
      "text/plain": [
       "       idCredito  idBanco  razon\n",
       "0              6        2    0.0\n",
       "1            560        1    0.0\n",
       "2            773        2    0.0\n",
       "3           1154        2    0.0\n",
       "4           1315        2    0.0\n",
       "...          ...      ...    ...\n",
       "90186     755612        9    0.0\n",
       "90187     755650        6    0.0\n",
       "90188     755676        1    0.0\n",
       "90189     755859       16    0.0\n",
       "90190     756595        5    0.2\n",
       "\n",
       "[90191 rows x 3 columns]"
      ]
     },
     "execution_count": 123,
     "metadata": {},
     "output_type": "execute_result"
    }
   ],
   "source": [
    "# Divide counttotal['idBanco'] by countnopagar['idBanco']\n",
    "counttotal[\"razon\"] =  1 - countnopagar['non_zero_count'] / counttotal['idBanco']\n",
    "counttotal"
   ]
  },
  {
   "cell_type": "code",
   "execution_count": null,
   "id": "12f95f5a",
   "metadata": {},
   "outputs": [
    {
     "data": {
      "application/vnd.microsoft.datawrangler.viewer.v0+json": {
       "columns": [
        {
         "name": "index",
         "rawType": "int64",
         "type": "integer"
        },
        {
         "name": "idListaCobro",
         "rawType": "int64",
         "type": "integer"
        },
        {
         "name": "idCredito",
         "rawType": "int64",
         "type": "integer"
        },
        {
         "name": "consecutivoCobro",
         "rawType": "int64",
         "type": "integer"
        },
        {
         "name": "idBanco",
         "rawType": "object",
         "type": "string"
        },
        {
         "name": "montoExigible",
         "rawType": "float64",
         "type": "float"
        },
        {
         "name": "montoCobrar",
         "rawType": "float64",
         "type": "float"
        },
        {
         "name": "montoCobrado",
         "rawType": "float64",
         "type": "float"
        },
        {
         "name": "fechaCobroBanco",
         "rawType": "object",
         "type": "unknown"
        },
        {
         "name": "idRespuestaBanco",
         "rawType": "object",
         "type": "unknown"
        },
        {
         "name": "fechaCreacionLista",
         "rawType": "object",
         "type": "string"
        },
        {
         "name": "fechaEnvioCobro",
         "rawType": "object",
         "type": "string"
        },
        {
         "name": "idEmisora",
         "rawType": "object",
         "type": "string"
        },
        {
         "name": "razon",
         "rawType": "float64",
         "type": "float"
        }
       ],
       "ref": "70b24802-a47d-418e-abbc-ca1197282e4e",
       "rows": [
        [
         "0",
         "100613",
         "83021",
         "27169966",
         "BANAMEX",
         "572.24",
         "572.24",
         "0.0",
         null,
         "Cuenta Insuficiencia Fondos",
         "30/09/2022 7:33AM",
         "30/09/2022",
         "Banamex Excepciones Cuenta                        ",
         "0.014319809069212375"
        ],
        [
         "1",
         "100613",
         "87227",
         "27169937",
         "BANAMEX",
         "517.74",
         "517.74",
         "0.0",
         null,
         "Cuenta Insuficiencia Fondos",
         "30/09/2022 7:33AM",
         "30/09/2022",
         "Banamex Excepciones Cuenta                        ",
         "0.0"
        ],
        [
         "2",
         "100613",
         "103785",
         "27169946",
         "BANAMEX",
         "681.23",
         "681.23",
         "0.0",
         null,
         "Cuenta Insuficiencia Fondos",
         "30/09/2022 7:33AM",
         "30/09/2022",
         "Banamex Excepciones Cuenta                        ",
         "0.0"
        ],
        [
         "3",
         "100613",
         "110463",
         "27169969",
         "BANAMEX",
         "572.24",
         "572.24",
         "0.0",
         null,
         "Cuenta Insuficiencia Fondos",
         "30/09/2022 7:33AM",
         "30/09/2022",
         "Banamex Excepciones Cuenta                        ",
         "0.006896551724137945"
        ],
        [
         "4",
         "100613",
         "113755",
         "27169948",
         "BANAMEX",
         "340.62",
         "340.62",
         "0.0",
         null,
         "Cuenta Insuficiencia Fondos",
         "30/09/2022 7:33AM",
         "30/09/2022",
         "Banamex Excepciones Cuenta                        ",
         "0.014134275618374548"
        ],
        [
         "5",
         "100613",
         "118237",
         "27169957",
         "BANAMEX",
         "272.5",
         "272.5",
         "0.0",
         null,
         "Cuenta Insuficiencia Fondos",
         "30/09/2022 7:33AM",
         "30/09/2022",
         "Banamex Excepciones Cuenta                        ",
         "0.016014234875444844"
        ],
        [
         "6",
         "100613",
         "136004",
         "27169958",
         "BANAMEX",
         "361.06",
         "361.06",
         "0.0",
         null,
         "Cuenta Insuficiencia Fondos",
         "30/09/2022 7:33AM",
         "30/09/2022",
         "Banamex Excepciones Cuenta                        ",
         "0.01388888888888884"
        ],
        [
         "7",
         "100613",
         "137382",
         "27169934",
         "BANAMEX",
         "393.94",
         "393.94",
         "0.0",
         null,
         "Cuenta Insuficiencia Fondos",
         "30/09/2022 7:33AM",
         "30/09/2022",
         "Banamex Excepciones Cuenta                        ",
         "0.03240740740740744"
        ],
        [
         "8",
         "100613",
         "137885",
         "27169970",
         "BANAMEX",
         "289.02",
         "289.02",
         "0.0",
         null,
         "Cuenta Insuficiencia Fondos",
         "30/09/2022 7:33AM",
         "30/09/2022",
         "Banamex Excepciones Cuenta                        ",
         "0.0"
        ],
        [
         "9",
         "100613",
         "149399",
         "27169968",
         "BANAMEX",
         "572.24",
         "572.24",
         "0.0",
         null,
         "Cuenta Insuficiencia Fondos",
         "30/09/2022 7:33AM",
         "30/09/2022",
         "Banamex Excepciones Cuenta                        ",
         "0.0"
        ],
        [
         "10",
         "100613",
         "161534",
         "27169931",
         "BANAMEX",
         "295.02",
         "295.02",
         "0.0",
         null,
         "Cuenta Insuficiencia Fondos",
         "30/09/2022 7:33AM",
         "30/09/2022",
         "Banamex Excepciones Cuenta                        ",
         "0.04180064308681675"
        ],
        [
         "11",
         "100613",
         "275360",
         "27169950",
         "BANAMEX",
         "532.99",
         "532.99",
         "0.0",
         null,
         "Cuenta Insuficiencia Fondos",
         "30/09/2022 7:33AM",
         "30/09/2022",
         "Banamex Excepciones Cuenta                        ",
         "0.013392857142857095"
        ],
        [
         "12",
         "100613",
         "296810",
         "27169956",
         "BANAMEX",
         "468.15",
         "468.15",
         "0.0",
         null,
         "Cuenta Insuficiencia Fondos",
         "30/09/2022 7:33AM",
         "30/09/2022",
         "Banamex Excepciones Cuenta                        ",
         "0.006849315068493178"
        ],
        [
         "13",
         "100613",
         "343551",
         "27169941",
         "BANAMEX",
         "517.68",
         "517.68",
         "0.0",
         null,
         "Cuenta Insuficiencia Fondos",
         "30/09/2022 7:33AM",
         "30/09/2022",
         "Banamex Excepciones Cuenta                        ",
         "0.0"
        ],
        [
         "14",
         "100613",
         "360034",
         "27169932",
         "BANAMEX",
         "656.59",
         "656.59",
         "0.0",
         null,
         "Cuenta Insuficiencia Fondos",
         "30/09/2022 7:33AM",
         "30/09/2022",
         "Banamex Excepciones Cuenta                        ",
         "0.0030911901081916993"
        ],
        [
         "15",
         "100613",
         "363720",
         "27169959",
         "BANAMEX",
         "517.68",
         "517.68",
         "0.0",
         null,
         "Cuenta Insuficiencia Fondos",
         "30/09/2022 7:33AM",
         "30/09/2022",
         "Banamex Excepciones Cuenta                        ",
         "0.029484029484029506"
        ],
        [
         "16",
         "100613",
         "364627",
         "27169953",
         "BANAMEX",
         "146.49",
         "146.49",
         "0.0",
         null,
         "Cuenta Insuficiencia Fondos",
         "30/09/2022 7:33AM",
         "30/09/2022",
         "Banamex Excepciones Cuenta                        ",
         "0.048387096774193505"
        ],
        [
         "17",
         "100613",
         "365595",
         "27169963",
         "BANAMEX",
         "310.61",
         "310.61",
         "0.0",
         null,
         "Cuenta Insuficiencia Fondos",
         "30/09/2022 7:33AM",
         "30/09/2022",
         "Banamex Excepciones Cuenta                        ",
         "0.0066225165562914245"
        ],
        [
         "18",
         "100613",
         "370244",
         "27169964",
         "BANAMEX",
         "1017.51",
         "1017.51",
         "0.0",
         null,
         "Cuenta Insuficiencia Fondos",
         "30/09/2022 7:33AM",
         "30/09/2022",
         "Banamex Excepciones Cuenta                        ",
         "0.0"
        ],
        [
         "19",
         "100613",
         "374741",
         "27169954",
         "BANAMEX",
         "517.68",
         "517.68",
         "0.0",
         null,
         "Cuenta Insuficiencia Fondos",
         "30/09/2022 7:33AM",
         "30/09/2022",
         "Banamex Excepciones Cuenta                        ",
         "0.028000000000000025"
        ],
        [
         "20",
         "100613",
         "378110",
         "27169952",
         "BANAMEX",
         "142.08",
         "142.08",
         "0.0",
         null,
         "Cuenta Insuficiencia Fondos",
         "30/09/2022 7:33AM",
         "30/09/2022",
         "Banamex Excepciones Cuenta                        ",
         "0.030927835051546393"
        ],
        [
         "21",
         "100613",
         "380983",
         "27169949",
         "BANAMEX",
         "548.83",
         "548.83",
         "0.0",
         null,
         "Cuenta Insuficiencia Fondos",
         "30/09/2022 7:33AM",
         "30/09/2022",
         "Banamex Excepciones Cuenta                        ",
         "0.00649350649350644"
        ],
        [
         "22",
         "100613",
         "383866",
         "27169942",
         "BANAMEX",
         "517.68",
         "517.68",
         "0.0",
         null,
         "Cuenta Insuficiencia Fondos",
         "30/09/2022 7:33AM",
         "30/09/2022",
         "Banamex Excepciones Cuenta                        ",
         "0.0"
        ],
        [
         "23",
         "100613",
         "392235",
         "27169936",
         "BANAMEX",
         "721.8",
         "721.8",
         "0.0",
         null,
         "Cuenta Insuficiencia Fondos",
         "30/09/2022 7:33AM",
         "30/09/2022",
         "Banamex Excepciones Cuenta                        ",
         "0.008210180623973717"
        ],
        [
         "24",
         "100613",
         "410307",
         "27169935",
         "BANAMEX",
         "1377.18",
         "1377.18",
         "0.0",
         null,
         "Cuenta Insuficiencia Fondos",
         "30/09/2022 7:33AM",
         "30/09/2022",
         "Banamex Excepciones Cuenta                        ",
         "0.0"
        ],
        [
         "25",
         "100613",
         "414198",
         "27169965",
         "BANAMEX",
         "202.35",
         "202.35",
         "0.0",
         null,
         "Cuenta Insuficiencia Fondos",
         "30/09/2022 7:33AM",
         "30/09/2022",
         "Banamex Excepciones Cuenta                        ",
         "0.003159557661927326"
        ],
        [
         "26",
         "100613",
         "416457",
         "27169944",
         "BANAMEX",
         "342.14",
         "342.14",
         "0.0",
         null,
         "Cuenta Insuficiencia Fondos",
         "30/09/2022 7:33AM",
         "30/09/2022",
         "Banamex Excepciones Cuenta                        ",
         "0.0012987012987012436"
        ],
        [
         "27",
         "100613",
         "416580",
         "27169945",
         "BANAMEX",
         "387.69",
         "387.69",
         "0.0",
         null,
         "Cuenta Insuficiencia Fondos",
         "30/09/2022 7:33AM",
         "30/09/2022",
         "Banamex Excepciones Cuenta                        ",
         "0.0012987012987012436"
        ],
        [
         "28",
         "100613",
         "420330",
         "27169930",
         "BANAMEX",
         "317.98",
         "317.98",
         "0.0",
         null,
         "Cuenta Insuficiencia Fondos",
         "30/09/2022 7:33AM",
         "30/09/2022",
         "Banamex Excepciones Cuenta                        ",
         "0.0"
        ],
        [
         "29",
         "100613",
         "421069",
         "27169938",
         "BANAMEX",
         "893.83",
         "893.83",
         "0.0",
         null,
         "Cuenta Insuficiencia Fondos",
         "30/09/2022 7:33AM",
         "30/09/2022",
         "Banamex Excepciones Cuenta                        ",
         "0.0"
        ],
        [
         "30",
         "100613",
         "426186",
         "27169947",
         "BANAMEX",
         "1090.08",
         "1090.08",
         "0.0",
         null,
         "Cuenta Insuficiencia Fondos",
         "30/09/2022 7:33AM",
         "30/09/2022",
         "Banamex Excepciones Cuenta                        ",
         "0.005076142131979711"
        ],
        [
         "31",
         "100613",
         "431827",
         "27169962",
         "BANAMEX",
         "435.42",
         "435.42",
         "0.0",
         null,
         "Cuenta Insuficiencia Fondos",
         "30/09/2022 7:33AM",
         "30/09/2022",
         "Banamex Excepciones Cuenta                        ",
         "0.0625"
        ],
        [
         "32",
         "100613",
         "445381",
         "27169939",
         "BANAMEX",
         "243.39",
         "243.39",
         "0.0",
         null,
         "Cuenta Insuficiencia Fondos",
         "30/09/2022 7:33AM",
         "30/09/2022",
         "Banamex Excepciones Cuenta                        ",
         "0.0013020833333333703"
        ],
        [
         "33",
         "100613",
         "447722",
         "27169951",
         "BANAMEX",
         "195.11",
         "195.11",
         "0.0",
         null,
         "Cuenta Insuficiencia Fondos",
         "30/09/2022 7:33AM",
         "30/09/2022",
         "Banamex Excepciones Cuenta                        ",
         "0.0"
        ],
        [
         "34",
         "100613",
         "450599",
         "27169943",
         "BANAMEX",
         "430.39",
         "430.39",
         "0.0",
         null,
         "Cuenta Insuficiencia Fondos",
         "30/09/2022 7:33AM",
         "30/09/2022",
         "Banamex Excepciones Cuenta                        ",
         "0.0013020833333333703"
        ],
        [
         "35",
         "100613",
         "459611",
         "27169967",
         "BANAMEX",
         "267.73",
         "267.73",
         "0.0",
         null,
         "Cuenta Insuficiencia Fondos",
         "30/09/2022 7:33AM",
         "30/09/2022",
         "Banamex Excepciones Cuenta                        ",
         "0.026507875528236635"
        ],
        [
         "36",
         "100613",
         "462689",
         "27169961",
         "BANAMEX",
         "313.97",
         "313.97",
         "0.0",
         null,
         "Cuenta Insuficiencia Fondos",
         "30/09/2022 7:33AM",
         "30/09/2022",
         "Banamex Excepciones Cuenta                        ",
         "0.003072196620583667"
        ],
        [
         "37",
         "100613",
         "466479",
         "27169933",
         "BANAMEX",
         "782.53",
         "782.53",
         "0.0",
         null,
         "Cuenta Insuficiencia Fondos",
         "30/09/2022 7:33AM",
         "30/09/2022",
         "Banamex Excepciones Cuenta                        ",
         "0.018181818181818188"
        ],
        [
         "38",
         "100613",
         "470886",
         "27169960",
         "BANAMEX",
         "782.53",
         "782.53",
         "0.0",
         null,
         "Cuenta Insuficiencia Fondos",
         "30/09/2022 7:33AM",
         "30/09/2022",
         "Banamex Excepciones Cuenta                        ",
         "0.02188940092165903"
        ],
        [
         "39",
         "100613",
         "487457",
         "27169955",
         "BANAMEX",
         "761.01",
         "761.01",
         "0.0",
         null,
         "Cuenta Insuficiencia Fondos",
         "30/09/2022 7:33AM",
         "30/09/2022",
         "Banamex Excepciones Cuenta                        ",
         "0.009756097560975618"
        ],
        [
         "40",
         "100613",
         "492052",
         "27169940",
         "BANAMEX",
         "973.54",
         "973.54",
         "0.0",
         null,
         "Cuenta Insuficiencia Fondos",
         "30/09/2022 7:33AM",
         "30/09/2022",
         "Banamex Excepciones Cuenta                        ",
         "0.004484304932735439"
        ],
        [
         "41",
         "101188",
         "599055",
         "27240538",
         "BANAMEX",
         "1765.53",
         "1765.53",
         "0.0",
         null,
         "Cuenta Insuficiencia Fondos",
         "07/10/2022 11:27AM",
         "07/10/2022",
         "Banamex Reintentos                                ",
         "0.0879396984924623"
        ],
        [
         "42",
         "100551",
         "15299",
         "27163736",
         "HSBC",
         "2098.54",
         "2098.54",
         "0.0",
         null,
         "Cuenta con Insuficiencia de Fondos",
         "29/09/2022 2:58PM",
         "29/09/2022",
         "BBVA CUENTA MATUTINO",
         "0.0"
        ],
        [
         "43",
         "100551",
         "17459",
         "27163726",
         "HSBC",
         "1051.42",
         "1051.42",
         "0.0",
         null,
         "Cuenta con Insuficiencia de Fondos",
         "29/09/2022 2:58PM",
         "29/09/2022",
         "BBVA CUENTA MATUTINO",
         "0.0"
        ],
        [
         "44",
         "100551",
         "29400",
         "27163764",
         "SCOTIABANK",
         "312.9",
         "312.9",
         "0.0",
         null,
         "Cuenta con Insuficiencia de Fondos",
         "29/09/2022 2:58PM",
         "29/09/2022",
         "BBVA CUENTA MATUTINO",
         "0.0"
        ],
        [
         "45",
         "100551",
         "34278",
         "27163704",
         "HSBC",
         "927.23",
         "927.23",
         "0.0",
         null,
         "Cuenta con Insuficiencia de Fondos",
         "29/09/2022 2:58PM",
         "29/09/2022",
         "BBVA CUENTA MATUTINO",
         "0.0"
        ],
        [
         "46",
         "100551",
         "41488",
         "27163711",
         "HSBC",
         "1721.34",
         "1721.34",
         "0.0",
         null,
         "Cuenta con Insuficiencia de Fondos",
         "29/09/2022 2:58PM",
         "29/09/2022",
         "BBVA CUENTA MATUTINO",
         "0.0"
        ],
        [
         "47",
         "100551",
         "43649",
         "27163696",
         "HSBC",
         "312.9",
         "312.9",
         "0.0",
         null,
         "Cuenta con Insuficiencia de Fondos",
         "29/09/2022 2:58PM",
         "29/09/2022",
         "BBVA CUENTA MATUTINO",
         "0.10810810810810811"
        ],
        [
         "48",
         "100551",
         "46382",
         "27163689",
         "HSBC",
         "590.68",
         "590.68",
         "0.0",
         null,
         "Cuenta con Insuficiencia de Fondos",
         "29/09/2022 2:58PM",
         "29/09/2022",
         "BBVA CUENTA MATUTINO",
         "0.0"
        ],
        [
         "49",
         "100551",
         "51113",
         "27163688",
         "HSBC",
         "1245.9",
         "1245.9",
         "0.0",
         null,
         "Cuenta con Insuficiencia de Fondos",
         "29/09/2022 2:58PM",
         "29/09/2022",
         "BBVA CUENTA MATUTINO",
         "0.01449275362318836"
        ]
       ],
       "shape": {
        "columns": 13,
        "rows": 10057440
       }
      },
      "text/html": [
       "<div>\n",
       "<style scoped>\n",
       "    .dataframe tbody tr th:only-of-type {\n",
       "        vertical-align: middle;\n",
       "    }\n",
       "\n",
       "    .dataframe tbody tr th {\n",
       "        vertical-align: top;\n",
       "    }\n",
       "\n",
       "    .dataframe thead th {\n",
       "        text-align: right;\n",
       "    }\n",
       "</style>\n",
       "<table border=\"1\" class=\"dataframe\">\n",
       "  <thead>\n",
       "    <tr style=\"text-align: right;\">\n",
       "      <th></th>\n",
       "      <th>idListaCobro</th>\n",
       "      <th>idCredito</th>\n",
       "      <th>consecutivoCobro</th>\n",
       "      <th>idBanco</th>\n",
       "      <th>montoExigible</th>\n",
       "      <th>montoCobrar</th>\n",
       "      <th>montoCobrado</th>\n",
       "      <th>fechaCobroBanco</th>\n",
       "      <th>idRespuestaBanco</th>\n",
       "      <th>fechaCreacionLista</th>\n",
       "      <th>fechaEnvioCobro</th>\n",
       "      <th>idEmisora</th>\n",
       "      <th>razon</th>\n",
       "    </tr>\n",
       "  </thead>\n",
       "  <tbody>\n",
       "    <tr>\n",
       "      <th>0</th>\n",
       "      <td>100613</td>\n",
       "      <td>83021</td>\n",
       "      <td>27169966</td>\n",
       "      <td>BANAMEX</td>\n",
       "      <td>572.24</td>\n",
       "      <td>572.24</td>\n",
       "      <td>0.0</td>\n",
       "      <td>NaN</td>\n",
       "      <td>Cuenta Insuficiencia Fondos</td>\n",
       "      <td>30/09/2022 7:33AM</td>\n",
       "      <td>30/09/2022</td>\n",
       "      <td>Banamex Excepciones Cuenta                    ...</td>\n",
       "      <td>0.014320</td>\n",
       "    </tr>\n",
       "    <tr>\n",
       "      <th>1</th>\n",
       "      <td>100613</td>\n",
       "      <td>87227</td>\n",
       "      <td>27169937</td>\n",
       "      <td>BANAMEX</td>\n",
       "      <td>517.74</td>\n",
       "      <td>517.74</td>\n",
       "      <td>0.0</td>\n",
       "      <td>NaN</td>\n",
       "      <td>Cuenta Insuficiencia Fondos</td>\n",
       "      <td>30/09/2022 7:33AM</td>\n",
       "      <td>30/09/2022</td>\n",
       "      <td>Banamex Excepciones Cuenta                    ...</td>\n",
       "      <td>0.000000</td>\n",
       "    </tr>\n",
       "    <tr>\n",
       "      <th>2</th>\n",
       "      <td>100613</td>\n",
       "      <td>103785</td>\n",
       "      <td>27169946</td>\n",
       "      <td>BANAMEX</td>\n",
       "      <td>681.23</td>\n",
       "      <td>681.23</td>\n",
       "      <td>0.0</td>\n",
       "      <td>NaN</td>\n",
       "      <td>Cuenta Insuficiencia Fondos</td>\n",
       "      <td>30/09/2022 7:33AM</td>\n",
       "      <td>30/09/2022</td>\n",
       "      <td>Banamex Excepciones Cuenta                    ...</td>\n",
       "      <td>0.000000</td>\n",
       "    </tr>\n",
       "    <tr>\n",
       "      <th>3</th>\n",
       "      <td>100613</td>\n",
       "      <td>110463</td>\n",
       "      <td>27169969</td>\n",
       "      <td>BANAMEX</td>\n",
       "      <td>572.24</td>\n",
       "      <td>572.24</td>\n",
       "      <td>0.0</td>\n",
       "      <td>NaN</td>\n",
       "      <td>Cuenta Insuficiencia Fondos</td>\n",
       "      <td>30/09/2022 7:33AM</td>\n",
       "      <td>30/09/2022</td>\n",
       "      <td>Banamex Excepciones Cuenta                    ...</td>\n",
       "      <td>0.006897</td>\n",
       "    </tr>\n",
       "    <tr>\n",
       "      <th>4</th>\n",
       "      <td>100613</td>\n",
       "      <td>113755</td>\n",
       "      <td>27169948</td>\n",
       "      <td>BANAMEX</td>\n",
       "      <td>340.62</td>\n",
       "      <td>340.62</td>\n",
       "      <td>0.0</td>\n",
       "      <td>NaN</td>\n",
       "      <td>Cuenta Insuficiencia Fondos</td>\n",
       "      <td>30/09/2022 7:33AM</td>\n",
       "      <td>30/09/2022</td>\n",
       "      <td>Banamex Excepciones Cuenta                    ...</td>\n",
       "      <td>0.014134</td>\n",
       "    </tr>\n",
       "    <tr>\n",
       "      <th>...</th>\n",
       "      <td>...</td>\n",
       "      <td>...</td>\n",
       "      <td>...</td>\n",
       "      <td>...</td>\n",
       "      <td>...</td>\n",
       "      <td>...</td>\n",
       "      <td>...</td>\n",
       "      <td>...</td>\n",
       "      <td>...</td>\n",
       "      <td>...</td>\n",
       "      <td>...</td>\n",
       "      <td>...</td>\n",
       "      <td>...</td>\n",
       "    </tr>\n",
       "    <tr>\n",
       "      <th>10057435</th>\n",
       "      <td>162271</td>\n",
       "      <td>741795</td>\n",
       "      <td>44299050</td>\n",
       "      <td>BANAMEX</td>\n",
       "      <td>980.32</td>\n",
       "      <td>980.32</td>\n",
       "      <td>0.0</td>\n",
       "      <td>NaN</td>\n",
       "      <td>4.0</td>\n",
       "      <td>22/05/2025 12:10PM</td>\n",
       "      <td>22/05/2025</td>\n",
       "      <td>BANAMEX TRADICIONAL REINTENTO</td>\n",
       "      <td>0.000000</td>\n",
       "    </tr>\n",
       "    <tr>\n",
       "      <th>10057436</th>\n",
       "      <td>162271</td>\n",
       "      <td>741795</td>\n",
       "      <td>44299051</td>\n",
       "      <td>BANAMEX</td>\n",
       "      <td>1633.86</td>\n",
       "      <td>1633.86</td>\n",
       "      <td>0.0</td>\n",
       "      <td>NaN</td>\n",
       "      <td>4.0</td>\n",
       "      <td>22/05/2025 12:10PM</td>\n",
       "      <td>22/05/2025</td>\n",
       "      <td>BANAMEX TRADICIONAL REINTENTO</td>\n",
       "      <td>0.000000</td>\n",
       "    </tr>\n",
       "    <tr>\n",
       "      <th>10057437</th>\n",
       "      <td>162271</td>\n",
       "      <td>742470</td>\n",
       "      <td>44299052</td>\n",
       "      <td>BANAMEX</td>\n",
       "      <td>810.44</td>\n",
       "      <td>810.44</td>\n",
       "      <td>0.0</td>\n",
       "      <td>NaN</td>\n",
       "      <td>4.0</td>\n",
       "      <td>22/05/2025 12:10PM</td>\n",
       "      <td>22/05/2025</td>\n",
       "      <td>BANAMEX TRADICIONAL REINTENTO</td>\n",
       "      <td>0.000000</td>\n",
       "    </tr>\n",
       "    <tr>\n",
       "      <th>10057438</th>\n",
       "      <td>162271</td>\n",
       "      <td>742470</td>\n",
       "      <td>44299053</td>\n",
       "      <td>BANAMEX</td>\n",
       "      <td>1350.74</td>\n",
       "      <td>1350.74</td>\n",
       "      <td>0.0</td>\n",
       "      <td>NaN</td>\n",
       "      <td>4.0</td>\n",
       "      <td>22/05/2025 12:10PM</td>\n",
       "      <td>22/05/2025</td>\n",
       "      <td>BANAMEX TRADICIONAL REINTENTO</td>\n",
       "      <td>0.000000</td>\n",
       "    </tr>\n",
       "    <tr>\n",
       "      <th>10057439</th>\n",
       "      <td>162271</td>\n",
       "      <td>742470</td>\n",
       "      <td>44299054</td>\n",
       "      <td>BANAMEX</td>\n",
       "      <td>540.30</td>\n",
       "      <td>540.30</td>\n",
       "      <td>0.0</td>\n",
       "      <td>NaN</td>\n",
       "      <td>4.0</td>\n",
       "      <td>22/05/2025 12:10PM</td>\n",
       "      <td>22/05/2025</td>\n",
       "      <td>BANAMEX TRADICIONAL REINTENTO</td>\n",
       "      <td>0.000000</td>\n",
       "    </tr>\n",
       "  </tbody>\n",
       "</table>\n",
       "<p>10057440 rows × 13 columns</p>\n",
       "</div>"
      ],
      "text/plain": [
       "          idListaCobro  idCredito  consecutivoCobro  idBanco  montoExigible  \\\n",
       "0               100613      83021          27169966  BANAMEX         572.24   \n",
       "1               100613      87227          27169937  BANAMEX         517.74   \n",
       "2               100613     103785          27169946  BANAMEX         681.23   \n",
       "3               100613     110463          27169969  BANAMEX         572.24   \n",
       "4               100613     113755          27169948  BANAMEX         340.62   \n",
       "...                ...        ...               ...      ...            ...   \n",
       "10057435        162271     741795          44299050  BANAMEX         980.32   \n",
       "10057436        162271     741795          44299051  BANAMEX        1633.86   \n",
       "10057437        162271     742470          44299052  BANAMEX         810.44   \n",
       "10057438        162271     742470          44299053  BANAMEX        1350.74   \n",
       "10057439        162271     742470          44299054  BANAMEX         540.30   \n",
       "\n",
       "          montoCobrar  montoCobrado fechaCobroBanco  \\\n",
       "0              572.24           0.0             NaN   \n",
       "1              517.74           0.0             NaN   \n",
       "2              681.23           0.0             NaN   \n",
       "3              572.24           0.0             NaN   \n",
       "4              340.62           0.0             NaN   \n",
       "...               ...           ...             ...   \n",
       "10057435       980.32           0.0             NaN   \n",
       "10057436      1633.86           0.0             NaN   \n",
       "10057437       810.44           0.0             NaN   \n",
       "10057438      1350.74           0.0             NaN   \n",
       "10057439       540.30           0.0             NaN   \n",
       "\n",
       "                     idRespuestaBanco  fechaCreacionLista fechaEnvioCobro  \\\n",
       "0         Cuenta Insuficiencia Fondos   30/09/2022 7:33AM      30/09/2022   \n",
       "1         Cuenta Insuficiencia Fondos   30/09/2022 7:33AM      30/09/2022   \n",
       "2         Cuenta Insuficiencia Fondos   30/09/2022 7:33AM      30/09/2022   \n",
       "3         Cuenta Insuficiencia Fondos   30/09/2022 7:33AM      30/09/2022   \n",
       "4         Cuenta Insuficiencia Fondos   30/09/2022 7:33AM      30/09/2022   \n",
       "...                               ...                 ...             ...   \n",
       "10057435                          4.0  22/05/2025 12:10PM      22/05/2025   \n",
       "10057436                          4.0  22/05/2025 12:10PM      22/05/2025   \n",
       "10057437                          4.0  22/05/2025 12:10PM      22/05/2025   \n",
       "10057438                          4.0  22/05/2025 12:10PM      22/05/2025   \n",
       "10057439                          4.0  22/05/2025 12:10PM      22/05/2025   \n",
       "\n",
       "                                                  idEmisora     razon  \n",
       "0         Banamex Excepciones Cuenta                    ...  0.014320  \n",
       "1         Banamex Excepciones Cuenta                    ...  0.000000  \n",
       "2         Banamex Excepciones Cuenta                    ...  0.000000  \n",
       "3         Banamex Excepciones Cuenta                    ...  0.006897  \n",
       "4         Banamex Excepciones Cuenta                    ...  0.014134  \n",
       "...                                                     ...       ...  \n",
       "10057435                      BANAMEX TRADICIONAL REINTENTO  0.000000  \n",
       "10057436                      BANAMEX TRADICIONAL REINTENTO  0.000000  \n",
       "10057437                      BANAMEX TRADICIONAL REINTENTO  0.000000  \n",
       "10057438                      BANAMEX TRADICIONAL REINTENTO  0.000000  \n",
       "10057439                      BANAMEX TRADICIONAL REINTENTO  0.000000  \n",
       "\n",
       "[10057440 rows x 13 columns]"
      ]
     },
     "execution_count": 124,
     "metadata": {},
     "output_type": "execute_result"
    }
   ],
   "source": [
    "# Add to df the column 'razon' with the values of counttotal['razon'] where df['idCredito'] == counttotal['idCredito']\n",
    "#df = df.merge(counttotal[['idCredito', 'razon']], on='idCredito', how='left')\n",
    "# Fill the nulls on 'razon' with 1\n",
    "df"
   ]
  },
  {
   "cell_type": "code",
   "execution_count": 126,
   "id": "8277919d",
   "metadata": {},
   "outputs": [],
   "source": [
    "# Replace the nulls on 'razon' with 1\n",
    "df['razon'] = df['razon'].fillna(1)"
   ]
  },
  {
   "cell_type": "code",
   "execution_count": 129,
   "id": "9d35f308",
   "metadata": {},
   "outputs": [
    {
     "data": {
      "application/vnd.microsoft.datawrangler.viewer.v0+json": {
       "columns": [
        {
         "name": "index",
         "rawType": "int64",
         "type": "integer"
        },
        {
         "name": "idListaCobro",
         "rawType": "int64",
         "type": "integer"
        },
        {
         "name": "idCredito",
         "rawType": "int64",
         "type": "integer"
        },
        {
         "name": "consecutivoCobro",
         "rawType": "int64",
         "type": "integer"
        },
        {
         "name": "idBanco",
         "rawType": "object",
         "type": "string"
        },
        {
         "name": "montoExigible",
         "rawType": "float64",
         "type": "float"
        },
        {
         "name": "montoCobrar",
         "rawType": "float64",
         "type": "float"
        },
        {
         "name": "montoCobrado",
         "rawType": "float64",
         "type": "float"
        },
        {
         "name": "fechaCobroBanco",
         "rawType": "object",
         "type": "unknown"
        },
        {
         "name": "idRespuestaBanco",
         "rawType": "object",
         "type": "unknown"
        },
        {
         "name": "fechaCreacionLista",
         "rawType": "object",
         "type": "string"
        },
        {
         "name": "fechaEnvioCobro",
         "rawType": "object",
         "type": "string"
        },
        {
         "name": "idEmisora",
         "rawType": "object",
         "type": "string"
        },
        {
         "name": "razon",
         "rawType": "float64",
         "type": "float"
        },
        {
         "name": "pay",
         "rawType": "int64",
         "type": "integer"
        }
       ],
       "ref": "d7696d82-54d6-4144-a4cc-0b04a95409a4",
       "rows": [
        [
         "0",
         "100613",
         "83021",
         "27169966",
         "BANAMEX",
         "572.24",
         "572.24",
         "0.0",
         null,
         "Cuenta Insuficiencia Fondos",
         "30/09/2022 7:33AM",
         "30/09/2022",
         "Banamex Excepciones Cuenta                        ",
         "0.014319809069212375",
         "0"
        ],
        [
         "1",
         "100613",
         "87227",
         "27169937",
         "BANAMEX",
         "517.74",
         "517.74",
         "0.0",
         null,
         "Cuenta Insuficiencia Fondos",
         "30/09/2022 7:33AM",
         "30/09/2022",
         "Banamex Excepciones Cuenta                        ",
         "0.0",
         "0"
        ],
        [
         "2",
         "100613",
         "103785",
         "27169946",
         "BANAMEX",
         "681.23",
         "681.23",
         "0.0",
         null,
         "Cuenta Insuficiencia Fondos",
         "30/09/2022 7:33AM",
         "30/09/2022",
         "Banamex Excepciones Cuenta                        ",
         "0.0",
         "0"
        ],
        [
         "3",
         "100613",
         "110463",
         "27169969",
         "BANAMEX",
         "572.24",
         "572.24",
         "0.0",
         null,
         "Cuenta Insuficiencia Fondos",
         "30/09/2022 7:33AM",
         "30/09/2022",
         "Banamex Excepciones Cuenta                        ",
         "0.006896551724137945",
         "0"
        ],
        [
         "4",
         "100613",
         "113755",
         "27169948",
         "BANAMEX",
         "340.62",
         "340.62",
         "0.0",
         null,
         "Cuenta Insuficiencia Fondos",
         "30/09/2022 7:33AM",
         "30/09/2022",
         "Banamex Excepciones Cuenta                        ",
         "0.014134275618374548",
         "0"
        ],
        [
         "5",
         "100613",
         "118237",
         "27169957",
         "BANAMEX",
         "272.5",
         "272.5",
         "0.0",
         null,
         "Cuenta Insuficiencia Fondos",
         "30/09/2022 7:33AM",
         "30/09/2022",
         "Banamex Excepciones Cuenta                        ",
         "0.016014234875444844",
         "0"
        ],
        [
         "6",
         "100613",
         "136004",
         "27169958",
         "BANAMEX",
         "361.06",
         "361.06",
         "0.0",
         null,
         "Cuenta Insuficiencia Fondos",
         "30/09/2022 7:33AM",
         "30/09/2022",
         "Banamex Excepciones Cuenta                        ",
         "0.01388888888888884",
         "0"
        ],
        [
         "7",
         "100613",
         "137382",
         "27169934",
         "BANAMEX",
         "393.94",
         "393.94",
         "0.0",
         null,
         "Cuenta Insuficiencia Fondos",
         "30/09/2022 7:33AM",
         "30/09/2022",
         "Banamex Excepciones Cuenta                        ",
         "0.03240740740740744",
         "0"
        ],
        [
         "8",
         "100613",
         "137885",
         "27169970",
         "BANAMEX",
         "289.02",
         "289.02",
         "0.0",
         null,
         "Cuenta Insuficiencia Fondos",
         "30/09/2022 7:33AM",
         "30/09/2022",
         "Banamex Excepciones Cuenta                        ",
         "0.0",
         "0"
        ],
        [
         "9",
         "100613",
         "149399",
         "27169968",
         "BANAMEX",
         "572.24",
         "572.24",
         "0.0",
         null,
         "Cuenta Insuficiencia Fondos",
         "30/09/2022 7:33AM",
         "30/09/2022",
         "Banamex Excepciones Cuenta                        ",
         "0.0",
         "0"
        ],
        [
         "10",
         "100613",
         "161534",
         "27169931",
         "BANAMEX",
         "295.02",
         "295.02",
         "0.0",
         null,
         "Cuenta Insuficiencia Fondos",
         "30/09/2022 7:33AM",
         "30/09/2022",
         "Banamex Excepciones Cuenta                        ",
         "0.04180064308681675",
         "0"
        ],
        [
         "11",
         "100613",
         "275360",
         "27169950",
         "BANAMEX",
         "532.99",
         "532.99",
         "0.0",
         null,
         "Cuenta Insuficiencia Fondos",
         "30/09/2022 7:33AM",
         "30/09/2022",
         "Banamex Excepciones Cuenta                        ",
         "0.013392857142857095",
         "0"
        ],
        [
         "12",
         "100613",
         "296810",
         "27169956",
         "BANAMEX",
         "468.15",
         "468.15",
         "0.0",
         null,
         "Cuenta Insuficiencia Fondos",
         "30/09/2022 7:33AM",
         "30/09/2022",
         "Banamex Excepciones Cuenta                        ",
         "0.006849315068493178",
         "0"
        ],
        [
         "13",
         "100613",
         "343551",
         "27169941",
         "BANAMEX",
         "517.68",
         "517.68",
         "0.0",
         null,
         "Cuenta Insuficiencia Fondos",
         "30/09/2022 7:33AM",
         "30/09/2022",
         "Banamex Excepciones Cuenta                        ",
         "0.0",
         "0"
        ],
        [
         "14",
         "100613",
         "360034",
         "27169932",
         "BANAMEX",
         "656.59",
         "656.59",
         "0.0",
         null,
         "Cuenta Insuficiencia Fondos",
         "30/09/2022 7:33AM",
         "30/09/2022",
         "Banamex Excepciones Cuenta                        ",
         "0.0030911901081916993",
         "0"
        ],
        [
         "15",
         "100613",
         "363720",
         "27169959",
         "BANAMEX",
         "517.68",
         "517.68",
         "0.0",
         null,
         "Cuenta Insuficiencia Fondos",
         "30/09/2022 7:33AM",
         "30/09/2022",
         "Banamex Excepciones Cuenta                        ",
         "0.029484029484029506",
         "0"
        ],
        [
         "16",
         "100613",
         "364627",
         "27169953",
         "BANAMEX",
         "146.49",
         "146.49",
         "0.0",
         null,
         "Cuenta Insuficiencia Fondos",
         "30/09/2022 7:33AM",
         "30/09/2022",
         "Banamex Excepciones Cuenta                        ",
         "0.048387096774193505",
         "0"
        ],
        [
         "17",
         "100613",
         "365595",
         "27169963",
         "BANAMEX",
         "310.61",
         "310.61",
         "0.0",
         null,
         "Cuenta Insuficiencia Fondos",
         "30/09/2022 7:33AM",
         "30/09/2022",
         "Banamex Excepciones Cuenta                        ",
         "0.0066225165562914245",
         "0"
        ],
        [
         "18",
         "100613",
         "370244",
         "27169964",
         "BANAMEX",
         "1017.51",
         "1017.51",
         "0.0",
         null,
         "Cuenta Insuficiencia Fondos",
         "30/09/2022 7:33AM",
         "30/09/2022",
         "Banamex Excepciones Cuenta                        ",
         "0.0",
         "0"
        ],
        [
         "19",
         "100613",
         "374741",
         "27169954",
         "BANAMEX",
         "517.68",
         "517.68",
         "0.0",
         null,
         "Cuenta Insuficiencia Fondos",
         "30/09/2022 7:33AM",
         "30/09/2022",
         "Banamex Excepciones Cuenta                        ",
         "0.028000000000000025",
         "0"
        ],
        [
         "20",
         "100613",
         "378110",
         "27169952",
         "BANAMEX",
         "142.08",
         "142.08",
         "0.0",
         null,
         "Cuenta Insuficiencia Fondos",
         "30/09/2022 7:33AM",
         "30/09/2022",
         "Banamex Excepciones Cuenta                        ",
         "0.030927835051546393",
         "0"
        ],
        [
         "21",
         "100613",
         "380983",
         "27169949",
         "BANAMEX",
         "548.83",
         "548.83",
         "0.0",
         null,
         "Cuenta Insuficiencia Fondos",
         "30/09/2022 7:33AM",
         "30/09/2022",
         "Banamex Excepciones Cuenta                        ",
         "0.00649350649350644",
         "0"
        ],
        [
         "22",
         "100613",
         "383866",
         "27169942",
         "BANAMEX",
         "517.68",
         "517.68",
         "0.0",
         null,
         "Cuenta Insuficiencia Fondos",
         "30/09/2022 7:33AM",
         "30/09/2022",
         "Banamex Excepciones Cuenta                        ",
         "0.0",
         "0"
        ],
        [
         "23",
         "100613",
         "392235",
         "27169936",
         "BANAMEX",
         "721.8",
         "721.8",
         "0.0",
         null,
         "Cuenta Insuficiencia Fondos",
         "30/09/2022 7:33AM",
         "30/09/2022",
         "Banamex Excepciones Cuenta                        ",
         "0.008210180623973717",
         "0"
        ],
        [
         "24",
         "100613",
         "410307",
         "27169935",
         "BANAMEX",
         "1377.18",
         "1377.18",
         "0.0",
         null,
         "Cuenta Insuficiencia Fondos",
         "30/09/2022 7:33AM",
         "30/09/2022",
         "Banamex Excepciones Cuenta                        ",
         "0.0",
         "0"
        ],
        [
         "25",
         "100613",
         "414198",
         "27169965",
         "BANAMEX",
         "202.35",
         "202.35",
         "0.0",
         null,
         "Cuenta Insuficiencia Fondos",
         "30/09/2022 7:33AM",
         "30/09/2022",
         "Banamex Excepciones Cuenta                        ",
         "0.003159557661927326",
         "0"
        ],
        [
         "26",
         "100613",
         "416457",
         "27169944",
         "BANAMEX",
         "342.14",
         "342.14",
         "0.0",
         null,
         "Cuenta Insuficiencia Fondos",
         "30/09/2022 7:33AM",
         "30/09/2022",
         "Banamex Excepciones Cuenta                        ",
         "0.0012987012987012436",
         "0"
        ],
        [
         "27",
         "100613",
         "416580",
         "27169945",
         "BANAMEX",
         "387.69",
         "387.69",
         "0.0",
         null,
         "Cuenta Insuficiencia Fondos",
         "30/09/2022 7:33AM",
         "30/09/2022",
         "Banamex Excepciones Cuenta                        ",
         "0.0012987012987012436",
         "0"
        ],
        [
         "28",
         "100613",
         "420330",
         "27169930",
         "BANAMEX",
         "317.98",
         "317.98",
         "0.0",
         null,
         "Cuenta Insuficiencia Fondos",
         "30/09/2022 7:33AM",
         "30/09/2022",
         "Banamex Excepciones Cuenta                        ",
         "0.0",
         "0"
        ],
        [
         "29",
         "100613",
         "421069",
         "27169938",
         "BANAMEX",
         "893.83",
         "893.83",
         "0.0",
         null,
         "Cuenta Insuficiencia Fondos",
         "30/09/2022 7:33AM",
         "30/09/2022",
         "Banamex Excepciones Cuenta                        ",
         "0.0",
         "0"
        ],
        [
         "30",
         "100613",
         "426186",
         "27169947",
         "BANAMEX",
         "1090.08",
         "1090.08",
         "0.0",
         null,
         "Cuenta Insuficiencia Fondos",
         "30/09/2022 7:33AM",
         "30/09/2022",
         "Banamex Excepciones Cuenta                        ",
         "0.005076142131979711",
         "0"
        ],
        [
         "31",
         "100613",
         "431827",
         "27169962",
         "BANAMEX",
         "435.42",
         "435.42",
         "0.0",
         null,
         "Cuenta Insuficiencia Fondos",
         "30/09/2022 7:33AM",
         "30/09/2022",
         "Banamex Excepciones Cuenta                        ",
         "0.0625",
         "0"
        ],
        [
         "32",
         "100613",
         "445381",
         "27169939",
         "BANAMEX",
         "243.39",
         "243.39",
         "0.0",
         null,
         "Cuenta Insuficiencia Fondos",
         "30/09/2022 7:33AM",
         "30/09/2022",
         "Banamex Excepciones Cuenta                        ",
         "0.0013020833333333703",
         "0"
        ],
        [
         "33",
         "100613",
         "447722",
         "27169951",
         "BANAMEX",
         "195.11",
         "195.11",
         "0.0",
         null,
         "Cuenta Insuficiencia Fondos",
         "30/09/2022 7:33AM",
         "30/09/2022",
         "Banamex Excepciones Cuenta                        ",
         "0.0",
         "0"
        ],
        [
         "34",
         "100613",
         "450599",
         "27169943",
         "BANAMEX",
         "430.39",
         "430.39",
         "0.0",
         null,
         "Cuenta Insuficiencia Fondos",
         "30/09/2022 7:33AM",
         "30/09/2022",
         "Banamex Excepciones Cuenta                        ",
         "0.0013020833333333703",
         "0"
        ],
        [
         "35",
         "100613",
         "459611",
         "27169967",
         "BANAMEX",
         "267.73",
         "267.73",
         "0.0",
         null,
         "Cuenta Insuficiencia Fondos",
         "30/09/2022 7:33AM",
         "30/09/2022",
         "Banamex Excepciones Cuenta                        ",
         "0.026507875528236635",
         "0"
        ],
        [
         "36",
         "100613",
         "462689",
         "27169961",
         "BANAMEX",
         "313.97",
         "313.97",
         "0.0",
         null,
         "Cuenta Insuficiencia Fondos",
         "30/09/2022 7:33AM",
         "30/09/2022",
         "Banamex Excepciones Cuenta                        ",
         "0.003072196620583667",
         "0"
        ],
        [
         "37",
         "100613",
         "466479",
         "27169933",
         "BANAMEX",
         "782.53",
         "782.53",
         "0.0",
         null,
         "Cuenta Insuficiencia Fondos",
         "30/09/2022 7:33AM",
         "30/09/2022",
         "Banamex Excepciones Cuenta                        ",
         "0.018181818181818188",
         "0"
        ],
        [
         "38",
         "100613",
         "470886",
         "27169960",
         "BANAMEX",
         "782.53",
         "782.53",
         "0.0",
         null,
         "Cuenta Insuficiencia Fondos",
         "30/09/2022 7:33AM",
         "30/09/2022",
         "Banamex Excepciones Cuenta                        ",
         "0.02188940092165903",
         "0"
        ],
        [
         "39",
         "100613",
         "487457",
         "27169955",
         "BANAMEX",
         "761.01",
         "761.01",
         "0.0",
         null,
         "Cuenta Insuficiencia Fondos",
         "30/09/2022 7:33AM",
         "30/09/2022",
         "Banamex Excepciones Cuenta                        ",
         "0.009756097560975618",
         "0"
        ],
        [
         "40",
         "100613",
         "492052",
         "27169940",
         "BANAMEX",
         "973.54",
         "973.54",
         "0.0",
         null,
         "Cuenta Insuficiencia Fondos",
         "30/09/2022 7:33AM",
         "30/09/2022",
         "Banamex Excepciones Cuenta                        ",
         "0.004484304932735439",
         "0"
        ],
        [
         "41",
         "101188",
         "599055",
         "27240538",
         "BANAMEX",
         "1765.53",
         "1765.53",
         "0.0",
         null,
         "Cuenta Insuficiencia Fondos",
         "07/10/2022 11:27AM",
         "07/10/2022",
         "Banamex Reintentos                                ",
         "0.0879396984924623",
         "0"
        ],
        [
         "42",
         "100551",
         "15299",
         "27163736",
         "HSBC",
         "2098.54",
         "2098.54",
         "0.0",
         null,
         "Cuenta con Insuficiencia de Fondos",
         "29/09/2022 2:58PM",
         "29/09/2022",
         "BBVA CUENTA MATUTINO",
         "0.0",
         "0"
        ],
        [
         "43",
         "100551",
         "17459",
         "27163726",
         "HSBC",
         "1051.42",
         "1051.42",
         "0.0",
         null,
         "Cuenta con Insuficiencia de Fondos",
         "29/09/2022 2:58PM",
         "29/09/2022",
         "BBVA CUENTA MATUTINO",
         "0.0",
         "0"
        ],
        [
         "44",
         "100551",
         "29400",
         "27163764",
         "SCOTIABANK",
         "312.9",
         "312.9",
         "0.0",
         null,
         "Cuenta con Insuficiencia de Fondos",
         "29/09/2022 2:58PM",
         "29/09/2022",
         "BBVA CUENTA MATUTINO",
         "0.0",
         "0"
        ],
        [
         "45",
         "100551",
         "34278",
         "27163704",
         "HSBC",
         "927.23",
         "927.23",
         "0.0",
         null,
         "Cuenta con Insuficiencia de Fondos",
         "29/09/2022 2:58PM",
         "29/09/2022",
         "BBVA CUENTA MATUTINO",
         "0.0",
         "0"
        ],
        [
         "46",
         "100551",
         "41488",
         "27163711",
         "HSBC",
         "1721.34",
         "1721.34",
         "0.0",
         null,
         "Cuenta con Insuficiencia de Fondos",
         "29/09/2022 2:58PM",
         "29/09/2022",
         "BBVA CUENTA MATUTINO",
         "0.0",
         "0"
        ],
        [
         "47",
         "100551",
         "43649",
         "27163696",
         "HSBC",
         "312.9",
         "312.9",
         "0.0",
         null,
         "Cuenta con Insuficiencia de Fondos",
         "29/09/2022 2:58PM",
         "29/09/2022",
         "BBVA CUENTA MATUTINO",
         "0.10810810810810811",
         "0"
        ],
        [
         "48",
         "100551",
         "46382",
         "27163689",
         "HSBC",
         "590.68",
         "590.68",
         "0.0",
         null,
         "Cuenta con Insuficiencia de Fondos",
         "29/09/2022 2:58PM",
         "29/09/2022",
         "BBVA CUENTA MATUTINO",
         "0.0",
         "0"
        ],
        [
         "49",
         "100551",
         "51113",
         "27163688",
         "HSBC",
         "1245.9",
         "1245.9",
         "0.0",
         null,
         "Cuenta con Insuficiencia de Fondos",
         "29/09/2022 2:58PM",
         "29/09/2022",
         "BBVA CUENTA MATUTINO",
         "0.01449275362318836",
         "0"
        ]
       ],
       "shape": {
        "columns": 14,
        "rows": 10057440
       }
      },
      "text/html": [
       "<div>\n",
       "<style scoped>\n",
       "    .dataframe tbody tr th:only-of-type {\n",
       "        vertical-align: middle;\n",
       "    }\n",
       "\n",
       "    .dataframe tbody tr th {\n",
       "        vertical-align: top;\n",
       "    }\n",
       "\n",
       "    .dataframe thead th {\n",
       "        text-align: right;\n",
       "    }\n",
       "</style>\n",
       "<table border=\"1\" class=\"dataframe\">\n",
       "  <thead>\n",
       "    <tr style=\"text-align: right;\">\n",
       "      <th></th>\n",
       "      <th>idListaCobro</th>\n",
       "      <th>idCredito</th>\n",
       "      <th>consecutivoCobro</th>\n",
       "      <th>idBanco</th>\n",
       "      <th>montoExigible</th>\n",
       "      <th>montoCobrar</th>\n",
       "      <th>montoCobrado</th>\n",
       "      <th>fechaCobroBanco</th>\n",
       "      <th>idRespuestaBanco</th>\n",
       "      <th>fechaCreacionLista</th>\n",
       "      <th>fechaEnvioCobro</th>\n",
       "      <th>idEmisora</th>\n",
       "      <th>razon</th>\n",
       "      <th>pay</th>\n",
       "    </tr>\n",
       "  </thead>\n",
       "  <tbody>\n",
       "    <tr>\n",
       "      <th>0</th>\n",
       "      <td>100613</td>\n",
       "      <td>83021</td>\n",
       "      <td>27169966</td>\n",
       "      <td>BANAMEX</td>\n",
       "      <td>572.24</td>\n",
       "      <td>572.24</td>\n",
       "      <td>0.0</td>\n",
       "      <td>NaN</td>\n",
       "      <td>Cuenta Insuficiencia Fondos</td>\n",
       "      <td>30/09/2022 7:33AM</td>\n",
       "      <td>30/09/2022</td>\n",
       "      <td>Banamex Excepciones Cuenta                    ...</td>\n",
       "      <td>0.014320</td>\n",
       "      <td>0</td>\n",
       "    </tr>\n",
       "    <tr>\n",
       "      <th>1</th>\n",
       "      <td>100613</td>\n",
       "      <td>87227</td>\n",
       "      <td>27169937</td>\n",
       "      <td>BANAMEX</td>\n",
       "      <td>517.74</td>\n",
       "      <td>517.74</td>\n",
       "      <td>0.0</td>\n",
       "      <td>NaN</td>\n",
       "      <td>Cuenta Insuficiencia Fondos</td>\n",
       "      <td>30/09/2022 7:33AM</td>\n",
       "      <td>30/09/2022</td>\n",
       "      <td>Banamex Excepciones Cuenta                    ...</td>\n",
       "      <td>0.000000</td>\n",
       "      <td>0</td>\n",
       "    </tr>\n",
       "    <tr>\n",
       "      <th>2</th>\n",
       "      <td>100613</td>\n",
       "      <td>103785</td>\n",
       "      <td>27169946</td>\n",
       "      <td>BANAMEX</td>\n",
       "      <td>681.23</td>\n",
       "      <td>681.23</td>\n",
       "      <td>0.0</td>\n",
       "      <td>NaN</td>\n",
       "      <td>Cuenta Insuficiencia Fondos</td>\n",
       "      <td>30/09/2022 7:33AM</td>\n",
       "      <td>30/09/2022</td>\n",
       "      <td>Banamex Excepciones Cuenta                    ...</td>\n",
       "      <td>0.000000</td>\n",
       "      <td>0</td>\n",
       "    </tr>\n",
       "    <tr>\n",
       "      <th>3</th>\n",
       "      <td>100613</td>\n",
       "      <td>110463</td>\n",
       "      <td>27169969</td>\n",
       "      <td>BANAMEX</td>\n",
       "      <td>572.24</td>\n",
       "      <td>572.24</td>\n",
       "      <td>0.0</td>\n",
       "      <td>NaN</td>\n",
       "      <td>Cuenta Insuficiencia Fondos</td>\n",
       "      <td>30/09/2022 7:33AM</td>\n",
       "      <td>30/09/2022</td>\n",
       "      <td>Banamex Excepciones Cuenta                    ...</td>\n",
       "      <td>0.006897</td>\n",
       "      <td>0</td>\n",
       "    </tr>\n",
       "    <tr>\n",
       "      <th>4</th>\n",
       "      <td>100613</td>\n",
       "      <td>113755</td>\n",
       "      <td>27169948</td>\n",
       "      <td>BANAMEX</td>\n",
       "      <td>340.62</td>\n",
       "      <td>340.62</td>\n",
       "      <td>0.0</td>\n",
       "      <td>NaN</td>\n",
       "      <td>Cuenta Insuficiencia Fondos</td>\n",
       "      <td>30/09/2022 7:33AM</td>\n",
       "      <td>30/09/2022</td>\n",
       "      <td>Banamex Excepciones Cuenta                    ...</td>\n",
       "      <td>0.014134</td>\n",
       "      <td>0</td>\n",
       "    </tr>\n",
       "    <tr>\n",
       "      <th>...</th>\n",
       "      <td>...</td>\n",
       "      <td>...</td>\n",
       "      <td>...</td>\n",
       "      <td>...</td>\n",
       "      <td>...</td>\n",
       "      <td>...</td>\n",
       "      <td>...</td>\n",
       "      <td>...</td>\n",
       "      <td>...</td>\n",
       "      <td>...</td>\n",
       "      <td>...</td>\n",
       "      <td>...</td>\n",
       "      <td>...</td>\n",
       "      <td>...</td>\n",
       "    </tr>\n",
       "    <tr>\n",
       "      <th>10057435</th>\n",
       "      <td>162271</td>\n",
       "      <td>741795</td>\n",
       "      <td>44299050</td>\n",
       "      <td>BANAMEX</td>\n",
       "      <td>980.32</td>\n",
       "      <td>980.32</td>\n",
       "      <td>0.0</td>\n",
       "      <td>NaN</td>\n",
       "      <td>4.0</td>\n",
       "      <td>22/05/2025 12:10PM</td>\n",
       "      <td>22/05/2025</td>\n",
       "      <td>BANAMEX TRADICIONAL REINTENTO</td>\n",
       "      <td>0.000000</td>\n",
       "      <td>0</td>\n",
       "    </tr>\n",
       "    <tr>\n",
       "      <th>10057436</th>\n",
       "      <td>162271</td>\n",
       "      <td>741795</td>\n",
       "      <td>44299051</td>\n",
       "      <td>BANAMEX</td>\n",
       "      <td>1633.86</td>\n",
       "      <td>1633.86</td>\n",
       "      <td>0.0</td>\n",
       "      <td>NaN</td>\n",
       "      <td>4.0</td>\n",
       "      <td>22/05/2025 12:10PM</td>\n",
       "      <td>22/05/2025</td>\n",
       "      <td>BANAMEX TRADICIONAL REINTENTO</td>\n",
       "      <td>0.000000</td>\n",
       "      <td>0</td>\n",
       "    </tr>\n",
       "    <tr>\n",
       "      <th>10057437</th>\n",
       "      <td>162271</td>\n",
       "      <td>742470</td>\n",
       "      <td>44299052</td>\n",
       "      <td>BANAMEX</td>\n",
       "      <td>810.44</td>\n",
       "      <td>810.44</td>\n",
       "      <td>0.0</td>\n",
       "      <td>NaN</td>\n",
       "      <td>4.0</td>\n",
       "      <td>22/05/2025 12:10PM</td>\n",
       "      <td>22/05/2025</td>\n",
       "      <td>BANAMEX TRADICIONAL REINTENTO</td>\n",
       "      <td>0.000000</td>\n",
       "      <td>0</td>\n",
       "    </tr>\n",
       "    <tr>\n",
       "      <th>10057438</th>\n",
       "      <td>162271</td>\n",
       "      <td>742470</td>\n",
       "      <td>44299053</td>\n",
       "      <td>BANAMEX</td>\n",
       "      <td>1350.74</td>\n",
       "      <td>1350.74</td>\n",
       "      <td>0.0</td>\n",
       "      <td>NaN</td>\n",
       "      <td>4.0</td>\n",
       "      <td>22/05/2025 12:10PM</td>\n",
       "      <td>22/05/2025</td>\n",
       "      <td>BANAMEX TRADICIONAL REINTENTO</td>\n",
       "      <td>0.000000</td>\n",
       "      <td>0</td>\n",
       "    </tr>\n",
       "    <tr>\n",
       "      <th>10057439</th>\n",
       "      <td>162271</td>\n",
       "      <td>742470</td>\n",
       "      <td>44299054</td>\n",
       "      <td>BANAMEX</td>\n",
       "      <td>540.30</td>\n",
       "      <td>540.30</td>\n",
       "      <td>0.0</td>\n",
       "      <td>NaN</td>\n",
       "      <td>4.0</td>\n",
       "      <td>22/05/2025 12:10PM</td>\n",
       "      <td>22/05/2025</td>\n",
       "      <td>BANAMEX TRADICIONAL REINTENTO</td>\n",
       "      <td>0.000000</td>\n",
       "      <td>0</td>\n",
       "    </tr>\n",
       "  </tbody>\n",
       "</table>\n",
       "<p>10057440 rows × 14 columns</p>\n",
       "</div>"
      ],
      "text/plain": [
       "          idListaCobro  idCredito  consecutivoCobro  idBanco  montoExigible  \\\n",
       "0               100613      83021          27169966  BANAMEX         572.24   \n",
       "1               100613      87227          27169937  BANAMEX         517.74   \n",
       "2               100613     103785          27169946  BANAMEX         681.23   \n",
       "3               100613     110463          27169969  BANAMEX         572.24   \n",
       "4               100613     113755          27169948  BANAMEX         340.62   \n",
       "...                ...        ...               ...      ...            ...   \n",
       "10057435        162271     741795          44299050  BANAMEX         980.32   \n",
       "10057436        162271     741795          44299051  BANAMEX        1633.86   \n",
       "10057437        162271     742470          44299052  BANAMEX         810.44   \n",
       "10057438        162271     742470          44299053  BANAMEX        1350.74   \n",
       "10057439        162271     742470          44299054  BANAMEX         540.30   \n",
       "\n",
       "          montoCobrar  montoCobrado fechaCobroBanco  \\\n",
       "0              572.24           0.0             NaN   \n",
       "1              517.74           0.0             NaN   \n",
       "2              681.23           0.0             NaN   \n",
       "3              572.24           0.0             NaN   \n",
       "4              340.62           0.0             NaN   \n",
       "...               ...           ...             ...   \n",
       "10057435       980.32           0.0             NaN   \n",
       "10057436      1633.86           0.0             NaN   \n",
       "10057437       810.44           0.0             NaN   \n",
       "10057438      1350.74           0.0             NaN   \n",
       "10057439       540.30           0.0             NaN   \n",
       "\n",
       "                     idRespuestaBanco  fechaCreacionLista fechaEnvioCobro  \\\n",
       "0         Cuenta Insuficiencia Fondos   30/09/2022 7:33AM      30/09/2022   \n",
       "1         Cuenta Insuficiencia Fondos   30/09/2022 7:33AM      30/09/2022   \n",
       "2         Cuenta Insuficiencia Fondos   30/09/2022 7:33AM      30/09/2022   \n",
       "3         Cuenta Insuficiencia Fondos   30/09/2022 7:33AM      30/09/2022   \n",
       "4         Cuenta Insuficiencia Fondos   30/09/2022 7:33AM      30/09/2022   \n",
       "...                               ...                 ...             ...   \n",
       "10057435                          4.0  22/05/2025 12:10PM      22/05/2025   \n",
       "10057436                          4.0  22/05/2025 12:10PM      22/05/2025   \n",
       "10057437                          4.0  22/05/2025 12:10PM      22/05/2025   \n",
       "10057438                          4.0  22/05/2025 12:10PM      22/05/2025   \n",
       "10057439                          4.0  22/05/2025 12:10PM      22/05/2025   \n",
       "\n",
       "                                                  idEmisora     razon  pay  \n",
       "0         Banamex Excepciones Cuenta                    ...  0.014320    0  \n",
       "1         Banamex Excepciones Cuenta                    ...  0.000000    0  \n",
       "2         Banamex Excepciones Cuenta                    ...  0.000000    0  \n",
       "3         Banamex Excepciones Cuenta                    ...  0.006897    0  \n",
       "4         Banamex Excepciones Cuenta                    ...  0.014134    0  \n",
       "...                                                     ...       ...  ...  \n",
       "10057435                      BANAMEX TRADICIONAL REINTENTO  0.000000    0  \n",
       "10057436                      BANAMEX TRADICIONAL REINTENTO  0.000000    0  \n",
       "10057437                      BANAMEX TRADICIONAL REINTENTO  0.000000    0  \n",
       "10057438                      BANAMEX TRADICIONAL REINTENTO  0.000000    0  \n",
       "10057439                      BANAMEX TRADICIONAL REINTENTO  0.000000    0  \n",
       "\n",
       "[10057440 rows x 14 columns]"
      ]
     },
     "execution_count": 129,
     "metadata": {},
     "output_type": "execute_result"
    }
   ],
   "source": [
    "# Add a column to df 'pay' where 1 if montoCobrado > 0 else 0\n",
    "df['pay'] = np.where(df['montoCobrado'] > 0, 1, 0)\n",
    "df"
   ]
  },
  {
   "cell_type": "code",
   "execution_count": 130,
   "id": "5c43b6bc",
   "metadata": {},
   "outputs": [
    {
     "data": {
      "application/vnd.microsoft.datawrangler.viewer.v0+json": {
       "columns": [
        {
         "name": "pay",
         "rawType": "int64",
         "type": "integer"
        },
        {
         "name": "count",
         "rawType": "int64",
         "type": "integer"
        }
       ],
       "ref": "0aff4956-aa84-44f8-95b9-0b7f37ed8056",
       "rows": [
        [
         "0",
         "9679374"
        ],
        [
         "1",
         "378066"
        ]
       ],
       "shape": {
        "columns": 1,
        "rows": 2
       }
      },
      "text/plain": [
       "pay\n",
       "0    9679374\n",
       "1     378066\n",
       "Name: count, dtype: int64"
      ]
     },
     "execution_count": 130,
     "metadata": {},
     "output_type": "execute_result"
    }
   ],
   "source": [
    "df.value_counts('pay')"
   ]
  },
  {
   "cell_type": "code",
   "execution_count": 131,
   "id": "2bdd4cf7",
   "metadata": {},
   "outputs": [
    {
     "data": {
      "application/vnd.microsoft.datawrangler.viewer.v0+json": {
       "columns": [
        {
         "name": "index",
         "rawType": "int64",
         "type": "integer"
        },
        {
         "name": "idListaCobro",
         "rawType": "int64",
         "type": "integer"
        },
        {
         "name": "idCredito",
         "rawType": "int64",
         "type": "integer"
        },
        {
         "name": "consecutivoCobro",
         "rawType": "int64",
         "type": "integer"
        },
        {
         "name": "idBanco",
         "rawType": "object",
         "type": "string"
        },
        {
         "name": "montoExigible",
         "rawType": "float64",
         "type": "float"
        },
        {
         "name": "montoCobrar",
         "rawType": "float64",
         "type": "float"
        },
        {
         "name": "montoCobrado",
         "rawType": "float64",
         "type": "float"
        },
        {
         "name": "fechaCobroBanco",
         "rawType": "object",
         "type": "unknown"
        },
        {
         "name": "idRespuestaBanco",
         "rawType": "object",
         "type": "string"
        },
        {
         "name": "fechaCreacionLista",
         "rawType": "object",
         "type": "string"
        },
        {
         "name": "fechaEnvioCobro",
         "rawType": "object",
         "type": "string"
        },
        {
         "name": "idEmisora",
         "rawType": "object",
         "type": "string"
        },
        {
         "name": "razon",
         "rawType": "float64",
         "type": "float"
        },
        {
         "name": "pay",
         "rawType": "int64",
         "type": "integer"
        }
       ],
       "ref": "01810b07-4621-404b-a528-521f7ce7417d",
       "rows": [
        [
         "0",
         "100613",
         "83021",
         "27169966",
         "BANAMEX",
         "572.24",
         "572.24",
         "0.0",
         null,
         "Cuenta Insuficiencia Fondos",
         "30/09/2022 7:33AM",
         "30/09/2022",
         "Banamex Excepciones Cuenta                        ",
         "0.014319809069212375",
         "0"
        ],
        [
         "1",
         "100613",
         "87227",
         "27169937",
         "BANAMEX",
         "517.74",
         "517.74",
         "0.0",
         null,
         "Cuenta Insuficiencia Fondos",
         "30/09/2022 7:33AM",
         "30/09/2022",
         "Banamex Excepciones Cuenta                        ",
         "0.0",
         "0"
        ],
        [
         "2",
         "100613",
         "103785",
         "27169946",
         "BANAMEX",
         "681.23",
         "681.23",
         "0.0",
         null,
         "Cuenta Insuficiencia Fondos",
         "30/09/2022 7:33AM",
         "30/09/2022",
         "Banamex Excepciones Cuenta                        ",
         "0.0",
         "0"
        ],
        [
         "3",
         "100613",
         "110463",
         "27169969",
         "BANAMEX",
         "572.24",
         "572.24",
         "0.0",
         null,
         "Cuenta Insuficiencia Fondos",
         "30/09/2022 7:33AM",
         "30/09/2022",
         "Banamex Excepciones Cuenta                        ",
         "0.006896551724137945",
         "0"
        ],
        [
         "4",
         "100613",
         "113755",
         "27169948",
         "BANAMEX",
         "340.62",
         "340.62",
         "0.0",
         null,
         "Cuenta Insuficiencia Fondos",
         "30/09/2022 7:33AM",
         "30/09/2022",
         "Banamex Excepciones Cuenta                        ",
         "0.014134275618374548",
         "0"
        ]
       ],
       "shape": {
        "columns": 14,
        "rows": 5
       }
      },
      "text/html": [
       "<div>\n",
       "<style scoped>\n",
       "    .dataframe tbody tr th:only-of-type {\n",
       "        vertical-align: middle;\n",
       "    }\n",
       "\n",
       "    .dataframe tbody tr th {\n",
       "        vertical-align: top;\n",
       "    }\n",
       "\n",
       "    .dataframe thead th {\n",
       "        text-align: right;\n",
       "    }\n",
       "</style>\n",
       "<table border=\"1\" class=\"dataframe\">\n",
       "  <thead>\n",
       "    <tr style=\"text-align: right;\">\n",
       "      <th></th>\n",
       "      <th>idListaCobro</th>\n",
       "      <th>idCredito</th>\n",
       "      <th>consecutivoCobro</th>\n",
       "      <th>idBanco</th>\n",
       "      <th>montoExigible</th>\n",
       "      <th>montoCobrar</th>\n",
       "      <th>montoCobrado</th>\n",
       "      <th>fechaCobroBanco</th>\n",
       "      <th>idRespuestaBanco</th>\n",
       "      <th>fechaCreacionLista</th>\n",
       "      <th>fechaEnvioCobro</th>\n",
       "      <th>idEmisora</th>\n",
       "      <th>razon</th>\n",
       "      <th>pay</th>\n",
       "    </tr>\n",
       "  </thead>\n",
       "  <tbody>\n",
       "    <tr>\n",
       "      <th>0</th>\n",
       "      <td>100613</td>\n",
       "      <td>83021</td>\n",
       "      <td>27169966</td>\n",
       "      <td>BANAMEX</td>\n",
       "      <td>572.24</td>\n",
       "      <td>572.24</td>\n",
       "      <td>0.0</td>\n",
       "      <td>NaN</td>\n",
       "      <td>Cuenta Insuficiencia Fondos</td>\n",
       "      <td>30/09/2022 7:33AM</td>\n",
       "      <td>30/09/2022</td>\n",
       "      <td>Banamex Excepciones Cuenta                    ...</td>\n",
       "      <td>0.014320</td>\n",
       "      <td>0</td>\n",
       "    </tr>\n",
       "    <tr>\n",
       "      <th>1</th>\n",
       "      <td>100613</td>\n",
       "      <td>87227</td>\n",
       "      <td>27169937</td>\n",
       "      <td>BANAMEX</td>\n",
       "      <td>517.74</td>\n",
       "      <td>517.74</td>\n",
       "      <td>0.0</td>\n",
       "      <td>NaN</td>\n",
       "      <td>Cuenta Insuficiencia Fondos</td>\n",
       "      <td>30/09/2022 7:33AM</td>\n",
       "      <td>30/09/2022</td>\n",
       "      <td>Banamex Excepciones Cuenta                    ...</td>\n",
       "      <td>0.000000</td>\n",
       "      <td>0</td>\n",
       "    </tr>\n",
       "    <tr>\n",
       "      <th>2</th>\n",
       "      <td>100613</td>\n",
       "      <td>103785</td>\n",
       "      <td>27169946</td>\n",
       "      <td>BANAMEX</td>\n",
       "      <td>681.23</td>\n",
       "      <td>681.23</td>\n",
       "      <td>0.0</td>\n",
       "      <td>NaN</td>\n",
       "      <td>Cuenta Insuficiencia Fondos</td>\n",
       "      <td>30/09/2022 7:33AM</td>\n",
       "      <td>30/09/2022</td>\n",
       "      <td>Banamex Excepciones Cuenta                    ...</td>\n",
       "      <td>0.000000</td>\n",
       "      <td>0</td>\n",
       "    </tr>\n",
       "    <tr>\n",
       "      <th>3</th>\n",
       "      <td>100613</td>\n",
       "      <td>110463</td>\n",
       "      <td>27169969</td>\n",
       "      <td>BANAMEX</td>\n",
       "      <td>572.24</td>\n",
       "      <td>572.24</td>\n",
       "      <td>0.0</td>\n",
       "      <td>NaN</td>\n",
       "      <td>Cuenta Insuficiencia Fondos</td>\n",
       "      <td>30/09/2022 7:33AM</td>\n",
       "      <td>30/09/2022</td>\n",
       "      <td>Banamex Excepciones Cuenta                    ...</td>\n",
       "      <td>0.006897</td>\n",
       "      <td>0</td>\n",
       "    </tr>\n",
       "    <tr>\n",
       "      <th>4</th>\n",
       "      <td>100613</td>\n",
       "      <td>113755</td>\n",
       "      <td>27169948</td>\n",
       "      <td>BANAMEX</td>\n",
       "      <td>340.62</td>\n",
       "      <td>340.62</td>\n",
       "      <td>0.0</td>\n",
       "      <td>NaN</td>\n",
       "      <td>Cuenta Insuficiencia Fondos</td>\n",
       "      <td>30/09/2022 7:33AM</td>\n",
       "      <td>30/09/2022</td>\n",
       "      <td>Banamex Excepciones Cuenta                    ...</td>\n",
       "      <td>0.014134</td>\n",
       "      <td>0</td>\n",
       "    </tr>\n",
       "  </tbody>\n",
       "</table>\n",
       "</div>"
      ],
      "text/plain": [
       "   idListaCobro  idCredito  consecutivoCobro  idBanco  montoExigible  \\\n",
       "0        100613      83021          27169966  BANAMEX         572.24   \n",
       "1        100613      87227          27169937  BANAMEX         517.74   \n",
       "2        100613     103785          27169946  BANAMEX         681.23   \n",
       "3        100613     110463          27169969  BANAMEX         572.24   \n",
       "4        100613     113755          27169948  BANAMEX         340.62   \n",
       "\n",
       "   montoCobrar  montoCobrado fechaCobroBanco             idRespuestaBanco  \\\n",
       "0       572.24           0.0             NaN  Cuenta Insuficiencia Fondos   \n",
       "1       517.74           0.0             NaN  Cuenta Insuficiencia Fondos   \n",
       "2       681.23           0.0             NaN  Cuenta Insuficiencia Fondos   \n",
       "3       572.24           0.0             NaN  Cuenta Insuficiencia Fondos   \n",
       "4       340.62           0.0             NaN  Cuenta Insuficiencia Fondos   \n",
       "\n",
       "  fechaCreacionLista fechaEnvioCobro  \\\n",
       "0  30/09/2022 7:33AM      30/09/2022   \n",
       "1  30/09/2022 7:33AM      30/09/2022   \n",
       "2  30/09/2022 7:33AM      30/09/2022   \n",
       "3  30/09/2022 7:33AM      30/09/2022   \n",
       "4  30/09/2022 7:33AM      30/09/2022   \n",
       "\n",
       "                                           idEmisora     razon  pay  \n",
       "0  Banamex Excepciones Cuenta                    ...  0.014320    0  \n",
       "1  Banamex Excepciones Cuenta                    ...  0.000000    0  \n",
       "2  Banamex Excepciones Cuenta                    ...  0.000000    0  \n",
       "3  Banamex Excepciones Cuenta                    ...  0.006897    0  \n",
       "4  Banamex Excepciones Cuenta                    ...  0.014134    0  "
      ]
     },
     "execution_count": 131,
     "metadata": {},
     "output_type": "execute_result"
    }
   ],
   "source": [
    "df.head()"
   ]
  },
  {
   "cell_type": "code",
   "execution_count": 146,
   "id": "350d32af",
   "metadata": {},
   "outputs": [],
   "source": [
    "# Generate a new dataframe with the columns 'idCredito', 'razon', 'pay' and 'fechaCobro'\n",
    "df2 = df[['idBanco', 'montoExigible', 'fechaEnvioCobro','idEmisora','pay']].copy()\n",
    "# Transform idBanco,idEmisora into one hot encoding\n",
    "df2 = pd.get_dummies(df2, columns=['idBanco', 'idEmisora'], drop_first=True)\n",
    "# Transform fechaEnvioCobro into month and day\n",
    "df2['fechaEnvioCobro'] = pd.to_datetime(df2['fechaEnvioCobro'], format='%d/%m/%Y')\n",
    "df2['month'] = df2['fechaEnvioCobro'].dt.month\n",
    "df2['day'] = df2['fechaEnvioCobro'].dt.day\n",
    "# Drop the column 'fechaEnvioCobro'\n",
    "df2.drop(columns=['fechaEnvioCobro'], inplace=True)"
   ]
  },
  {
   "cell_type": "code",
   "execution_count": 158,
   "id": "55724992",
   "metadata": {},
   "outputs": [
    {
     "name": "stdout",
     "output_type": "stream",
     "text": [
      "              precision    recall  f1-score   support\n",
      "\n",
      "           0       0.99      0.89      0.94   2903812\n",
      "           1       0.19      0.68      0.30    113420\n",
      "\n",
      "    accuracy                           0.88   3017232\n",
      "   macro avg       0.59      0.79      0.62   3017232\n",
      "weighted avg       0.96      0.88      0.91   3017232\n",
      "\n"
     ]
    }
   ],
   "source": [
    "from sklearn.model_selection import train_test_split\n",
    "from sklearn.naive_bayes import GaussianNB\n",
    "from sklearn.metrics import classification_report\n",
    "\n",
    "# Features and target\n",
    "X = df2.drop(columns=['pay'])\n",
    "y = df2['pay']\n",
    "\n",
    "# Split the data\n",
    "X_train, X_test, y_train, y_test = train_test_split(X, y, test_size=0.3, random_state=42, stratify=y)\n",
    "\n",
    "# Create and train the model\n",
    "model = GaussianNB()\n",
    "model.fit(X_train, y_train)\n",
    "\n",
    "# Predict\n",
    "y_pred = model.predict(X_test)\n",
    "\n",
    "# Evaluate\n",
    "print(classification_report(y_test, y_pred))\n"
   ]
  },
  {
   "cell_type": "code",
   "execution_count": 159,
   "id": "d74860fb",
   "metadata": {},
   "outputs": [
    {
     "data": {
      "text/plain": [
       "['../models/naive_bayes_model.pkl']"
      ]
     },
     "execution_count": 159,
     "metadata": {},
     "output_type": "execute_result"
    }
   ],
   "source": [
    "# Save the model\n",
    "import joblib\n",
    "joblib.dump(model, '../models/naive_bayes_model.pkl')"
   ]
  }
 ],
 "metadata": {
  "kernelspec": {
   "display_name": ".venv",
   "language": "python",
   "name": "python3"
  },
  "language_info": {
   "codemirror_mode": {
    "name": "ipython",
    "version": 3
   },
   "file_extension": ".py",
   "mimetype": "text/x-python",
   "name": "python",
   "nbconvert_exporter": "python",
   "pygments_lexer": "ipython3",
   "version": "3.10.14"
  }
 },
 "nbformat": 4,
 "nbformat_minor": 5
}
