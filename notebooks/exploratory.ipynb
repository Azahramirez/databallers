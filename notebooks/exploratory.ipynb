{
 "cells": [
  {
   "cell_type": "code",
   "execution_count": 2,
   "id": "1755c12e",
   "metadata": {},
   "outputs": [],
   "source": [
    "import pandas as pd\n",
    "\n"
   ]
  },
  {
   "cell_type": "code",
   "execution_count": 3,
   "id": "29ce24f9",
   "metadata": {},
   "outputs": [
    {
     "name": "stderr",
     "output_type": "stream",
     "text": [
      "/var/folders/th/l_973jss7177y23lq6k2vcvh0000gn/T/ipykernel_61431/3609074044.py:1: DtypeWarning: Columns (8) have mixed types. Specify dtype option on import or set low_memory=False.\n",
      "  df = pd.read_csv(\"../data/cobros_final.csv\")\n"
     ]
    }
   ],
   "source": [
    "df = pd.read_csv(\"../data/cobros_final.csv\")\n",
    "\n"
   ]
  },
  {
   "cell_type": "code",
   "execution_count": 4,
   "id": "2538e8ce",
   "metadata": {},
   "outputs": [
    {
     "data": {
      "application/vnd.microsoft.datawrangler.viewer.v0+json": {
       "columns": [
        {
         "name": "index",
         "rawType": "int64",
         "type": "integer"
        },
        {
         "name": "idListaCobro",
         "rawType": "int64",
         "type": "integer"
        },
        {
         "name": "idCredito",
         "rawType": "int64",
         "type": "integer"
        },
        {
         "name": "consecutivoCobro",
         "rawType": "int64",
         "type": "integer"
        },
        {
         "name": "idBanco",
         "rawType": "object",
         "type": "string"
        },
        {
         "name": "montoExigible",
         "rawType": "float64",
         "type": "float"
        },
        {
         "name": "montoCobrar",
         "rawType": "float64",
         "type": "float"
        },
        {
         "name": "montoCobrado",
         "rawType": "float64",
         "type": "float"
        },
        {
         "name": "fechaCobroBanco",
         "rawType": "object",
         "type": "unknown"
        },
        {
         "name": "idRespuestaBanco",
         "rawType": "object",
         "type": "string"
        },
        {
         "name": "fechaCreacionLista",
         "rawType": "object",
         "type": "string"
        },
        {
         "name": "fechaEnvioCobro",
         "rawType": "object",
         "type": "string"
        },
        {
         "name": "idEmisora",
         "rawType": "object",
         "type": "string"
        }
       ],
       "ref": "ed7c303c-a425-4eaf-b827-5d23639d2a33",
       "rows": [
        [
         "0",
         "100613",
         "83021",
         "27169966",
         "BANAMEX",
         "572.24",
         "572.24",
         "0.0",
         null,
         "Cuenta Insuficiencia Fondos",
         "30/09/2022 7:33AM",
         "30/09/2022",
         "Banamex Excepciones Cuenta                        "
        ],
        [
         "1",
         "100613",
         "87227",
         "27169937",
         "BANAMEX",
         "517.74",
         "517.74",
         "0.0",
         null,
         "Cuenta Insuficiencia Fondos",
         "30/09/2022 7:33AM",
         "30/09/2022",
         "Banamex Excepciones Cuenta                        "
        ],
        [
         "2",
         "100613",
         "103785",
         "27169946",
         "BANAMEX",
         "681.23",
         "681.23",
         "0.0",
         null,
         "Cuenta Insuficiencia Fondos",
         "30/09/2022 7:33AM",
         "30/09/2022",
         "Banamex Excepciones Cuenta                        "
        ],
        [
         "3",
         "100613",
         "110463",
         "27169969",
         "BANAMEX",
         "572.24",
         "572.24",
         "0.0",
         null,
         "Cuenta Insuficiencia Fondos",
         "30/09/2022 7:33AM",
         "30/09/2022",
         "Banamex Excepciones Cuenta                        "
        ],
        [
         "4",
         "100613",
         "113755",
         "27169948",
         "BANAMEX",
         "340.62",
         "340.62",
         "0.0",
         null,
         "Cuenta Insuficiencia Fondos",
         "30/09/2022 7:33AM",
         "30/09/2022",
         "Banamex Excepciones Cuenta                        "
        ]
       ],
       "shape": {
        "columns": 12,
        "rows": 5
       }
      },
      "text/html": [
       "<div>\n",
       "<style scoped>\n",
       "    .dataframe tbody tr th:only-of-type {\n",
       "        vertical-align: middle;\n",
       "    }\n",
       "\n",
       "    .dataframe tbody tr th {\n",
       "        vertical-align: top;\n",
       "    }\n",
       "\n",
       "    .dataframe thead th {\n",
       "        text-align: right;\n",
       "    }\n",
       "</style>\n",
       "<table border=\"1\" class=\"dataframe\">\n",
       "  <thead>\n",
       "    <tr style=\"text-align: right;\">\n",
       "      <th></th>\n",
       "      <th>idListaCobro</th>\n",
       "      <th>idCredito</th>\n",
       "      <th>consecutivoCobro</th>\n",
       "      <th>idBanco</th>\n",
       "      <th>montoExigible</th>\n",
       "      <th>montoCobrar</th>\n",
       "      <th>montoCobrado</th>\n",
       "      <th>fechaCobroBanco</th>\n",
       "      <th>idRespuestaBanco</th>\n",
       "      <th>fechaCreacionLista</th>\n",
       "      <th>fechaEnvioCobro</th>\n",
       "      <th>idEmisora</th>\n",
       "    </tr>\n",
       "  </thead>\n",
       "  <tbody>\n",
       "    <tr>\n",
       "      <th>0</th>\n",
       "      <td>100613</td>\n",
       "      <td>83021</td>\n",
       "      <td>27169966</td>\n",
       "      <td>BANAMEX</td>\n",
       "      <td>572.24</td>\n",
       "      <td>572.24</td>\n",
       "      <td>0.0</td>\n",
       "      <td>NaN</td>\n",
       "      <td>Cuenta Insuficiencia Fondos</td>\n",
       "      <td>30/09/2022 7:33AM</td>\n",
       "      <td>30/09/2022</td>\n",
       "      <td>Banamex Excepciones Cuenta                    ...</td>\n",
       "    </tr>\n",
       "    <tr>\n",
       "      <th>1</th>\n",
       "      <td>100613</td>\n",
       "      <td>87227</td>\n",
       "      <td>27169937</td>\n",
       "      <td>BANAMEX</td>\n",
       "      <td>517.74</td>\n",
       "      <td>517.74</td>\n",
       "      <td>0.0</td>\n",
       "      <td>NaN</td>\n",
       "      <td>Cuenta Insuficiencia Fondos</td>\n",
       "      <td>30/09/2022 7:33AM</td>\n",
       "      <td>30/09/2022</td>\n",
       "      <td>Banamex Excepciones Cuenta                    ...</td>\n",
       "    </tr>\n",
       "    <tr>\n",
       "      <th>2</th>\n",
       "      <td>100613</td>\n",
       "      <td>103785</td>\n",
       "      <td>27169946</td>\n",
       "      <td>BANAMEX</td>\n",
       "      <td>681.23</td>\n",
       "      <td>681.23</td>\n",
       "      <td>0.0</td>\n",
       "      <td>NaN</td>\n",
       "      <td>Cuenta Insuficiencia Fondos</td>\n",
       "      <td>30/09/2022 7:33AM</td>\n",
       "      <td>30/09/2022</td>\n",
       "      <td>Banamex Excepciones Cuenta                    ...</td>\n",
       "    </tr>\n",
       "    <tr>\n",
       "      <th>3</th>\n",
       "      <td>100613</td>\n",
       "      <td>110463</td>\n",
       "      <td>27169969</td>\n",
       "      <td>BANAMEX</td>\n",
       "      <td>572.24</td>\n",
       "      <td>572.24</td>\n",
       "      <td>0.0</td>\n",
       "      <td>NaN</td>\n",
       "      <td>Cuenta Insuficiencia Fondos</td>\n",
       "      <td>30/09/2022 7:33AM</td>\n",
       "      <td>30/09/2022</td>\n",
       "      <td>Banamex Excepciones Cuenta                    ...</td>\n",
       "    </tr>\n",
       "    <tr>\n",
       "      <th>4</th>\n",
       "      <td>100613</td>\n",
       "      <td>113755</td>\n",
       "      <td>27169948</td>\n",
       "      <td>BANAMEX</td>\n",
       "      <td>340.62</td>\n",
       "      <td>340.62</td>\n",
       "      <td>0.0</td>\n",
       "      <td>NaN</td>\n",
       "      <td>Cuenta Insuficiencia Fondos</td>\n",
       "      <td>30/09/2022 7:33AM</td>\n",
       "      <td>30/09/2022</td>\n",
       "      <td>Banamex Excepciones Cuenta                    ...</td>\n",
       "    </tr>\n",
       "  </tbody>\n",
       "</table>\n",
       "</div>"
      ],
      "text/plain": [
       "   idListaCobro  idCredito  consecutivoCobro  idBanco  montoExigible  \\\n",
       "0        100613      83021          27169966  BANAMEX         572.24   \n",
       "1        100613      87227          27169937  BANAMEX         517.74   \n",
       "2        100613     103785          27169946  BANAMEX         681.23   \n",
       "3        100613     110463          27169969  BANAMEX         572.24   \n",
       "4        100613     113755          27169948  BANAMEX         340.62   \n",
       "\n",
       "   montoCobrar  montoCobrado fechaCobroBanco             idRespuestaBanco  \\\n",
       "0       572.24           0.0             NaN  Cuenta Insuficiencia Fondos   \n",
       "1       517.74           0.0             NaN  Cuenta Insuficiencia Fondos   \n",
       "2       681.23           0.0             NaN  Cuenta Insuficiencia Fondos   \n",
       "3       572.24           0.0             NaN  Cuenta Insuficiencia Fondos   \n",
       "4       340.62           0.0             NaN  Cuenta Insuficiencia Fondos   \n",
       "\n",
       "  fechaCreacionLista fechaEnvioCobro  \\\n",
       "0  30/09/2022 7:33AM      30/09/2022   \n",
       "1  30/09/2022 7:33AM      30/09/2022   \n",
       "2  30/09/2022 7:33AM      30/09/2022   \n",
       "3  30/09/2022 7:33AM      30/09/2022   \n",
       "4  30/09/2022 7:33AM      30/09/2022   \n",
       "\n",
       "                                           idEmisora  \n",
       "0  Banamex Excepciones Cuenta                    ...  \n",
       "1  Banamex Excepciones Cuenta                    ...  \n",
       "2  Banamex Excepciones Cuenta                    ...  \n",
       "3  Banamex Excepciones Cuenta                    ...  \n",
       "4  Banamex Excepciones Cuenta                    ...  "
      ]
     },
     "execution_count": 4,
     "metadata": {},
     "output_type": "execute_result"
    }
   ],
   "source": [
    "df.head()"
   ]
  },
  {
   "cell_type": "code",
   "execution_count": 5,
   "id": "3487693f",
   "metadata": {},
   "outputs": [
    {
     "name": "stdout",
     "output_type": "stream",
     "text": [
      "<class 'pandas.core.frame.DataFrame'>\n",
      "RangeIndex: 10057440 entries, 0 to 10057439\n",
      "Data columns (total 12 columns):\n",
      " #   Column              Dtype  \n",
      "---  ------              -----  \n",
      " 0   idListaCobro        int64  \n",
      " 1   idCredito           int64  \n",
      " 2   consecutivoCobro    int64  \n",
      " 3   idBanco             object \n",
      " 4   montoExigible       float64\n",
      " 5   montoCobrar         float64\n",
      " 6   montoCobrado        float64\n",
      " 7   fechaCobroBanco     object \n",
      " 8   idRespuestaBanco    object \n",
      " 9   fechaCreacionLista  object \n",
      " 10  fechaEnvioCobro     object \n",
      " 11  idEmisora           object \n",
      "dtypes: float64(3), int64(3), object(6)\n",
      "memory usage: 920.8+ MB\n"
     ]
    }
   ],
   "source": [
    "df.info()"
   ]
  },
  {
   "cell_type": "code",
   "execution_count": 7,
   "id": "7fc420cc",
   "metadata": {},
   "outputs": [
    {
     "data": {
      "application/vnd.microsoft.datawrangler.viewer.v0+json": {
       "columns": [
        {
         "name": "index",
         "rawType": "object",
         "type": "string"
        },
        {
         "name": "0",
         "rawType": "int64",
         "type": "integer"
        }
       ],
       "ref": "ee2377bb-ee9c-41fc-bbe1-c4f29053d20c",
       "rows": [
        [
         "idListaCobro",
         "0"
        ],
        [
         "idCredito",
         "0"
        ],
        [
         "consecutivoCobro",
         "0"
        ],
        [
         "idBanco",
         "0"
        ],
        [
         "montoExigible",
         "0"
        ],
        [
         "montoCobrar",
         "0"
        ],
        [
         "montoCobrado",
         "0"
        ],
        [
         "fechaCobroBanco",
         "9679374"
        ],
        [
         "idRespuestaBanco",
         "149561"
        ],
        [
         "fechaCreacionLista",
         "0"
        ],
        [
         "fechaEnvioCobro",
         "0"
        ],
        [
         "idEmisora",
         "0"
        ]
       ],
       "shape": {
        "columns": 1,
        "rows": 12
       }
      },
      "text/plain": [
       "idListaCobro                0\n",
       "idCredito                   0\n",
       "consecutivoCobro            0\n",
       "idBanco                     0\n",
       "montoExigible               0\n",
       "montoCobrar                 0\n",
       "montoCobrado                0\n",
       "fechaCobroBanco       9679374\n",
       "idRespuestaBanco       149561\n",
       "fechaCreacionLista          0\n",
       "fechaEnvioCobro             0\n",
       "idEmisora                   0\n",
       "dtype: int64"
      ]
     },
     "execution_count": 7,
     "metadata": {},
     "output_type": "execute_result"
    }
   ],
   "source": [
    "df.isnull().sum()"
   ]
  },
  {
   "cell_type": "code",
   "execution_count": 8,
   "id": "de21cbc3",
   "metadata": {},
   "outputs": [
    {
     "data": {
      "text/plain": [
       "(10057440, 12)"
      ]
     },
     "execution_count": 8,
     "metadata": {},
     "output_type": "execute_result"
    }
   ],
   "source": [
    "df.shape"
   ]
  },
  {
   "cell_type": "code",
   "execution_count": null,
   "id": "19eff875",
   "metadata": {},
   "outputs": [],
   "source": []
  }
 ],
 "metadata": {
  "kernelspec": {
   "display_name": ".venv",
   "language": "python",
   "name": "python3"
  },
  "language_info": {
   "codemirror_mode": {
    "name": "ipython",
    "version": 3
   },
   "file_extension": ".py",
   "mimetype": "text/x-python",
   "name": "python",
   "nbconvert_exporter": "python",
   "pygments_lexer": "ipython3",
   "version": "3.10.16"
  }
 },
 "nbformat": 4,
 "nbformat_minor": 5
}
