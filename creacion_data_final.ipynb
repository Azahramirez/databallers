{
 "cells": [
  {
   "cell_type": "code",
   "execution_count": 173,
   "id": "93480c8a",
   "metadata": {},
   "outputs": [],
   "source": [
    "import pandas as pd\n",
    "import numpy as np\n",
    "import os"
   ]
  },
  {
   "cell_type": "code",
   "execution_count": null,
   "id": "fd9a572f",
   "metadata": {},
   "outputs": [
    {
     "name": "stdout",
     "output_type": "stream",
     "text": [
      "File ListaCobro.csv does not exist.\n",
      "File ListaCobroDetalle2023.csv does not exist.\n",
      "File ListaCobroDetalle2022.csv does not exist.\n",
      "File ListaCobroDetalle2025.csv does not exist.\n",
      "File ListaCobroDetalle2024.csv does not exist.\n"
     ]
    }
   ],
   "source": [
    "def get_dictionaries(filename:str) -> dict:\n",
    "    \"\"\"\n",
    "    Reads a CSV file and returns a dictionary with the first column as keys and the second column as values.\n",
    "    \n",
    "    Args:\n",
    "        filename (str): The path to the CSV file.\n",
    "        \n",
    "    Returns:\n",
    "        dict: A dictionary with the first column as keys and the second column as values.\n",
    "    \"\"\"\n",
    "    # Read the CSV file into a DataFrame\n",
    "    df = pd.read_csv(filename, header=None)\n",
    "    \n",
    "    # Create a dictionary from the DataFrame\n",
    "    dictionary = dict(zip(df.iloc[:, 0], df.iloc[:, 1]))\n",
    "    \n",
    "    return dictionary\n",
    "\n",
    "dictionaries = {}\n",
    "path = \"data/ExtraccionDomiVersionFinal/\"\n",
    "for file in os.listdir(path):\n",
    "    # Get the full path of the file\n",
    "    file_path = os.path.join(path, file)\n",
    "    \n",
    "    # Check if the file exists\n",
    "    if os.path.exists(file_path) and file.startswith(\"Cat\"):\n",
    "        # Read the dictionary from the file\n",
    "        dictionaries[file] = get_dictionaries(file_path)\n",
    "    else:\n",
    "        print(f\"File {file} does not exist.\")"
   ]
  },
  {
   "cell_type": "code",
   "execution_count": 175,
   "id": "c6adc3ab",
   "metadata": {},
   "outputs": [
    {
     "data": {
      "text/plain": [
       "dict_keys(['ListaCobroEmisora.csv', 'CatRespuestaBancos.csv', 'CatBanco.csv', 'CatEmisora.csv'])"
      ]
     },
     "execution_count": 175,
     "metadata": {},
     "output_type": "execute_result"
    }
   ],
   "source": [
    "dictionaries.keys()"
   ]
  },
  {
   "cell_type": "code",
   "execution_count": 176,
   "id": "27d07ea0",
   "metadata": {},
   "outputs": [
    {
     "name": "stdout",
     "output_type": "stream",
     "text": [
      "Processing file: ListaCobro.csv\n",
      "Processing file: ListaCobroEmisora.csv\n",
      "Processing file: ListaCobroDetalle2023.csv\n"
     ]
    },
    {
     "name": "stderr",
     "output_type": "stream",
     "text": [
      "/var/folders/tl/n2n7gv595bq_stcnjf2_yz440000gn/T/ipykernel_66151/1391424003.py:6: DtypeWarning: Columns (8) have mixed types. Specify dtype option on import or set low_memory=False.\n",
      "  datos_extraccion[archivo] = pd.read_csv(os.path.join(path, archivo))\n"
     ]
    },
    {
     "name": "stdout",
     "output_type": "stream",
     "text": [
      "Processing file: ListaCobroDetalle2022.csv\n",
      "Processing file: ListaCobroDetalle2025.csv\n",
      "Processing file: ListaCobroDetalle2024.csv\n"
     ]
    }
   ],
   "source": [
    "datos_extraccion = {}\n",
    "path = 'data/ExtraccionDomiVersionFinal/'\n",
    "for archivo in os.listdir(path):\n",
    "    if archivo.endswith('.csv') and not archivo.startswith(\"Cat\"):\n",
    "        print(f\"Processing file: {archivo}\")\n",
    "        datos_extraccion[archivo] = pd.read_csv(os.path.join(path, archivo))"
   ]
  },
  {
   "cell_type": "code",
   "execution_count": 177,
   "id": "629edf5b",
   "metadata": {},
   "outputs": [],
   "source": [
    "datos_extraccion = dict(sorted(datos_extraccion.items()))"
   ]
  },
  {
   "cell_type": "code",
   "execution_count": 178,
   "id": "020508a5",
   "metadata": {},
   "outputs": [],
   "source": [
    "fechas = datos_extraccion['ListaCobro.csv']\n",
    "lista_detalles = datos_extraccion[\"ListaCobroDetalle2022.csv\"]\n",
    "emisora = datos_extraccion[\"ListaCobroEmisora.csv\"]"
   ]
  },
  {
   "cell_type": "code",
   "execution_count": 179,
   "id": "ec87bb3c",
   "metadata": {},
   "outputs": [
    {
     "name": "stdout",
     "output_type": "stream",
     "text": [
      "ListaCobroDetalle2023.csv\n",
      "ListaCobroDetalle2024.csv\n",
      "ListaCobroDetalle2025.csv\n"
     ]
    }
   ],
   "source": [
    "for file in datos_extraccion:\n",
    "    #If file contains number in name concat with lista_detalles\n",
    "    if file != \"ListaCobroDetalle2022.csv\" and any(char.isdigit() for char in file):\n",
    "        print(file)\n",
    "        lista_detalles = pd.concat([lista_detalles, datos_extraccion[file]])"
   ]
  },
  {
   "cell_type": "code",
   "execution_count": 207,
   "id": "e4ceaf80",
   "metadata": {},
   "outputs": [],
   "source": [
    "cobros_final = lista_detalles.merge(\n",
    "\tfechas,\n",
    "\ton='idListaCobro',\n",
    "\thow='left',\n",
    "\tsuffixes=('', '_fechas')\n",
    ").drop(columns = \"idBanco_fechas\").merge(emisora, on='idListaCobro', how='left')\n"
   ]
  },
  {
   "cell_type": "code",
   "execution_count": 208,
   "id": "45bd7203",
   "metadata": {},
   "outputs": [],
   "source": [
    "cobros_final[\"idBanco\"] = cobros_final[\"idBanco\"].astype(str).map(dictionaries[\"CatBanco.csv\"]).fillna(cobros_final[\"idBanco\"])\n",
    "cobros_final[\"idRespuestaBanco\"] = cobros_final[\"idRespuestaBanco\"].astype(str).map(dictionaries[\"CatRespuestaBancos.csv\"]).fillna(cobros_final[\"idRespuestaBanco\"])\n",
    "cobros_final[\"idEmisora\"] = cobros_final[\"idEmisora\"].astype(str).map(dictionaries[\"CatEmisora.csv\"]).fillna(cobros_final[\"idEmisora\"])"
   ]
  }
 ],
 "metadata": {
  "kernelspec": {
   "display_name": ".venv",
   "language": "python",
   "name": "python3"
  },
  "language_info": {
   "codemirror_mode": {
    "name": "ipython",
    "version": 3
   },
   "file_extension": ".py",
   "mimetype": "text/x-python",
   "name": "python",
   "nbconvert_exporter": "python",
   "pygments_lexer": "ipython3",
   "version": "3.10.16"
  }
 },
 "nbformat": 4,
 "nbformat_minor": 5
}
